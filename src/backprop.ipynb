{
  "nbformat": 4,
  "nbformat_minor": 0,
  "metadata": {
    "colab": {
      "provenance": [],
      "authorship_tag": "ABX9TyOY7a2NHs4FE3xAD2kd6jvc"
    },
    "kernelspec": {
      "name": "python3",
      "display_name": "Python 3"
    },
    "language_info": {
      "name": "python"
    }
  },
  "cells": [
    {
      "cell_type": "code",
      "execution_count": 86,
      "metadata": {
        "id": "5ZuaZUp5oJh8"
      },
      "outputs": [],
      "source": [
        "import torch.nn.functional as F\n",
        "import matplotlib.pyplot as plt\n",
        "import numpy as np\n",
        "import kagglehub\n",
        "import torch\n",
        "import os\n",
        "%matplotlib inline"
      ]
    },
    {
      "cell_type": "markdown",
      "source": [],
      "metadata": {
        "id": "azgDdIu0lwVv"
      }
    },
    {
      "cell_type": "code",
      "source": [
        "def download_dataset() -> str:\n",
        "    path = kagglehub.dataset_download(\"rishitjakharia/names-txt\")\n",
        "    return path # for easier access later"
      ],
      "metadata": {
        "id": "g44jFQs2qCGl"
      },
      "execution_count": 87,
      "outputs": []
    },
    {
      "cell_type": "code",
      "source": [
        "dataset_path = download_dataset() + \"/names.txt\""
      ],
      "metadata": {
        "id": "MA9H16s-qPXT"
      },
      "execution_count": 88,
      "outputs": []
    },
    {
      "cell_type": "code",
      "source": [
        "words = open(dataset_path, 'r').read().splitlines()"
      ],
      "metadata": {
        "id": "VYqGvxdiqWwr"
      },
      "execution_count": 89,
      "outputs": []
    },
    {
      "cell_type": "code",
      "source": [
        "print(dataset_path)"
      ],
      "metadata": {
        "colab": {
          "base_uri": "https://localhost:8080/"
        },
        "id": "sbq9boPGmoTF",
        "outputId": "8c5b66b8-0fbe-4130-ad58-bbbe2e935948"
      },
      "execution_count": 90,
      "outputs": [
        {
          "output_type": "stream",
          "name": "stdout",
          "text": [
            "/kaggle/input/names-txt/names.txt\n"
          ]
        }
      ]
    },
    {
      "cell_type": "code",
      "source": [
        "def make_int_char_maps() -> tuple[dict, dict]:\n",
        "  chars = sorted(list(set(''.join(words))))\n",
        "  ctoi = {c: i + 1 for i, c in enumerate(chars)}\n",
        "  ctoi['.'] = 0\n",
        "  itoc = {i: c for c, i in ctoi.items()}\n",
        "  return ctoi, itoc"
      ],
      "metadata": {
        "id": "K2-SWXb-qnq7"
      },
      "execution_count": 91,
      "outputs": []
    },
    {
      "cell_type": "code",
      "source": [
        "ctoi, itoc = make_int_char_maps()"
      ],
      "metadata": {
        "id": "RdXYrtwBq5sT"
      },
      "execution_count": 92,
      "outputs": []
    },
    {
      "cell_type": "code",
      "source": [
        "print(itoc)"
      ],
      "metadata": {
        "colab": {
          "base_uri": "https://localhost:8080/"
        },
        "id": "niQbCUjPrAuD",
        "outputId": "8d2d3ec6-1b1c-4eb7-e71c-f595901ef884"
      },
      "execution_count": 93,
      "outputs": [
        {
          "output_type": "stream",
          "name": "stdout",
          "text": [
            "{1: 'a', 2: 'b', 3: 'c', 4: 'd', 5: 'e', 6: 'f', 7: 'g', 8: 'h', 9: 'i', 10: 'j', 11: 'k', 12: 'l', 13: 'm', 14: 'n', 15: 'o', 16: 'p', 17: 'q', 18: 'r', 19: 's', 20: 't', 21: 'u', 22: 'v', 23: 'w', 24: 'x', 25: 'y', 26: 'z', 0: '.'}\n"
          ]
        }
      ]
    },
    {
      "cell_type": "code",
      "source": [
        "print(ctoi)"
      ],
      "metadata": {
        "colab": {
          "base_uri": "https://localhost:8080/"
        },
        "id": "4t-Rs9ExvDw2",
        "outputId": "f0721d65-2a54-484a-d28a-fce7a4c32b69"
      },
      "execution_count": 94,
      "outputs": [
        {
          "output_type": "stream",
          "name": "stdout",
          "text": [
            "{'a': 1, 'b': 2, 'c': 3, 'd': 4, 'e': 5, 'f': 6, 'g': 7, 'h': 8, 'i': 9, 'j': 10, 'k': 11, 'l': 12, 'm': 13, 'n': 14, 'o': 15, 'p': 16, 'q': 17, 'r': 18, 's': 19, 't': 20, 'u': 21, 'v': 22, 'w': 23, 'x': 24, 'y': 25, 'z': 26, '.': 0}\n"
          ]
        }
      ]
    },
    {
      "cell_type": "code",
      "source": [
        "vocab_size = len(ctoi)\n",
        "print(vocab_size)"
      ],
      "metadata": {
        "colab": {
          "base_uri": "https://localhost:8080/"
        },
        "id": "Bpbdik5_ne80",
        "outputId": "f58dffda-9ee6-4a21-8499-79c074d14339"
      },
      "execution_count": 95,
      "outputs": [
        {
          "output_type": "stream",
          "name": "stdout",
          "text": [
            "27\n"
          ]
        }
      ]
    },
    {
      "cell_type": "code",
      "source": [
        "def build_dataset(inp_words) -> tuple[torch.tensor, torch.tensor]:\n",
        "\n",
        "  block_size = 3 # context length -> how many chars does it take to predict the next\n",
        "  inp, target = [], []\n",
        "  for w in inp_words:\n",
        "    context = [0] * block_size\n",
        "\n",
        "    for ch in w + '.':\n",
        "      ix = ctoi[ch]\n",
        "      inp.append(context)\n",
        "      target.append(ix)\n",
        "      context = context[1:] + [ix] # crop and append\n",
        "\n",
        "  inp = torch.tensor(inp)\n",
        "  target = torch.tensor(target)\n",
        "  return inp, target"
      ],
      "metadata": {
        "id": "jJqoPknQvJ2N"
      },
      "execution_count": 96,
      "outputs": []
    },
    {
      "cell_type": "code",
      "source": [
        "import random\n",
        "random.seed(42)\n",
        "\n",
        "random.shuffle(words)\n",
        "n1 = int(0.8 * len(words))\n",
        "n2 = int(0.9 * len(words))\n",
        "\n",
        "Xtr, Ytr = build_dataset(words[:n1])\n",
        "Xdev, Ydev = build_dataset(words[n1:n2])\n",
        "Xte, Yte = build_dataset(words[n2:])"
      ],
      "metadata": {
        "id": "wjgYr1ucOsG3"
      },
      "execution_count": 97,
      "outputs": []
    },
    {
      "cell_type": "code",
      "source": [
        "# to later compare gradients we computed to Pytorch gradients\n",
        "def cmp(s, dt, t):\n",
        "  ex = torch.all(dt == t.grad).item()\n",
        "  app = torch.allclose(dt, t.grad)\n",
        "  maxdiff = (dt - t.grad).abs().max().item()\n",
        "  print(f'{s:15s} | exact: {str(ex):5s} | approximate: {str(app):5s} | maxdiff: {maxdiff}')"
      ],
      "metadata": {
        "id": "beykf3rdPGHb"
      },
      "execution_count": 98,
      "outputs": []
    },
    {
      "cell_type": "code",
      "source": [
        "n_emb = 10\n",
        "n_context = 3\n",
        "n_hidden = 64\n",
        "\n",
        "g = torch.Generator().manual_seed(2147483647)\n",
        "C = torch.randn((vocab_size, n_emb), generator=g)\n",
        "\n",
        "# first layer                                           # kaiming init\n",
        "W1 = torch.randn((n_emb * n_context, n_hidden), generator=g) * (5/3)/((n_emb * 3) ** 0.5)\n",
        "B1 = torch.randn(n_hidden, generator=g) * 0.1 # these biases dont do anything since we saw they get subtracted in batch normlizing but its here for fun\n",
        "\n",
        "# second layer\n",
        "W2 = torch.randn((n_hidden, vocab_size), generator=g) * 0.1\n",
        "B2 = torch.randn(vocab_size, generator=g) * 0.1\n",
        "\n",
        "# batchnorm params\n",
        "bngain = torch.ones((1, n_hidden)) * 0.1 + 1.0\n",
        "bnbias = torch.zeros((1, n_hidden)) * 0.1\n",
        "\n",
        "parameters = [C, W1, B1, W2, B2, bngain, bnbias]\n",
        "print(sum(p.nelement() for p in parameters)) # number of parameters in total\n",
        "for p in parameters:\n",
        "  p.requires_grad = True\n",
        "\n",
        "\n"
      ],
      "metadata": {
        "colab": {
          "base_uri": "https://localhost:8080/"
        },
        "id": "gEVvGdwYgt5J",
        "outputId": "609e466d-8089-46d7-e017-bc2c7584d680"
      },
      "execution_count": 99,
      "outputs": [
        {
          "output_type": "stream",
          "name": "stdout",
          "text": [
            "4137\n"
          ]
        }
      ]
    },
    {
      "cell_type": "code",
      "source": [
        "batch_size = 32\n",
        "n = batch_size # a shorter variable also, for convenience\n",
        "# construct a minibatch\n",
        "ix = torch.randint(0, Xtr.shape[0], (batch_size,), generator=g)\n",
        "Xb, Yb = Xtr[ix], Ytr[ix] # batch X,Y"
      ],
      "metadata": {
        "id": "5QLAnxNiZ9Lp"
      },
      "execution_count": 100,
      "outputs": []
    },
    {
      "cell_type": "code",
      "source": [
        "emb = C[Xb]\n",
        "embcat = emb.view(emb.shape[0], -1)\n",
        "\n",
        "# linear layer 1\n",
        "hprebn = embcat @ W1 + B1\n",
        "# batch norm\n",
        "bnmeani = 1/n*hprebn.sum(0, keepdim=True)\n",
        "bndiff = hprebn - bnmeani\n",
        "bndiff2 = bndiff**2\n",
        "bnvar = 1/(n-1)*(bndiff2).sum(0, keepdim=True) # Bessel's correction (dividing by n-1, not n)\n",
        "bnvar_inv = (bnvar + 1e-5)**-0.5\n",
        "bnraw = bndiff * bnvar_inv\n",
        "hpreact = bngain * bnraw + bnbias\n",
        "# non linearity\n",
        "h = torch.tanh(hpreact)\n",
        "# second linear layer\n",
        "logits = h @ W2 + B2\n",
        "# cross entropy loss\n",
        "logit_maxes = logits.max(1, keepdim=True).values\n",
        "norm_logits = logits - logit_maxes # subtract the max so we dont get inf in counts\n",
        "counts = norm_logits.exp()\n",
        "counts_sum = counts.sum(1, keepdims=True)\n",
        "counts_sum_inv = counts_sum ** -1\n",
        "probs = counts * counts_sum_inv\n",
        "logprobs = probs.log()\n",
        "loss = -logprobs[range(Xb.shape[0]), Yb].mean()\n",
        "\n",
        "# pytorch backwards\n",
        "for p in parameters:\n",
        "  p.grad = None\n",
        "\n",
        "for t in [logprobs, probs, counts, counts_sum, counts_sum_inv,\n",
        "          norm_logits, logit_maxes, logits, h, hpreact, bnraw,\n",
        "          bnvar_inv, bnvar, bndiff2, bndiff, hprebn, bnmeani,\n",
        "          embcat, emb, bndiff2]: # Added bndiff2\n",
        "  t.retain_grad()\n",
        "\n",
        "loss.backward()\n",
        "loss"
      ],
      "metadata": {
        "colab": {
          "base_uri": "https://localhost:8080/"
        },
        "id": "dE2LfWUfh6tM",
        "outputId": "8090119f-f343-4c07-da6e-f08cc999a0b7"
      },
      "execution_count": 101,
      "outputs": [
        {
          "output_type": "execute_result",
          "data": {
            "text/plain": [
              "tensor(3.3482, grad_fn=<NegBackward0>)"
            ]
          },
          "metadata": {},
          "execution_count": 101
        }
      ]
    },
    {
      "cell_type": "code",
      "source": [
        "from ctypes import c_size_t\n",
        "# Ecercise 1\n",
        "# Calculating all of the deriatives manually to do backprop\n",
        "\n",
        "# L = loss\n",
        "# dL/dL = 1\n",
        "\n",
        "# dL/dlogprobs\n",
        "# loss = -(a + b + c ... ) /B\n",
        "#      = -a/B -b/B -c/B ...\n",
        "#      = dL/da = -1/B, dL/db = -1/B ...\n",
        "# adding just propates the gradient\n",
        "# dl/dlogprobs = -1/B\n",
        "\n",
        "dlogprobs = torch.zeros_like(logprobs)\n",
        "dlogprobs[range(n), Yb] = -1.0/n\n",
        "\n",
        "# dL/dprobs = dL/dlogprobs * dlogprobs/dprobs -> chain rule\n",
        "#           = -1/B         * ???\n",
        "# logprobs = probs.log()\n",
        "# logprobs = ln(probs)\n",
        "# dlogprobs/dprobs = 1/probs\n",
        "\n",
        "# dL/dprobs = dlogprobs * 1/probs\n",
        "dprobs = dlogprobs * 1.0/probs\n",
        "\n",
        "# probs = counts * counts_sum_inv\n",
        "\n",
        "# p  = a * b\n",
        "# a[3x3] * b[3x1]\n",
        "# a11*b1 a12*b1 a13*b1\n",
        "# a21*b2 a22*b2 a23*b2\n",
        "# a31*b3 a23*b3 a33*b3\n",
        "# p[3x3]\n",
        "\n",
        "# since we reuse b1, b2, b3 we need to add their gradients and keep the original shape [32x1]\n",
        "# dL/dcsi = (counts * dprobs).sum(1, keepdim=true)\n",
        "dcsi= (counts * dprobs).sum(1, keepdim=True)\n",
        "\n",
        "# refering to our p = a * b\n",
        "# a represents counts\n",
        "# dL/da = dL/dp * dp/da\n",
        "#       = dprobs * dcsi\n",
        "dcounts = dprobs * counts_sum_inv\n",
        "\n",
        "# counts_sum_inv = counts_sum ** -1\n",
        "# dcounts_sum = dL/dcsi * -1 * counts_sum**-2\n",
        "dcounts_sum = dcsi * (-counts_sum**-2)\n",
        "\n",
        "# counts_sum = counts.sum(1, keepdims=True)\n",
        "# addition pretty much carries the gradient over\n",
        "# counts_sum = c1 + c2 + c3 ...\n",
        "# dL/dc1 = dL/dcounts_sum * dcounts_sum/dc1\n",
        "#        = dcounts_sum * 1\n",
        "# we want to add to the already existing dcounts since its apart of multiple nodes in the prop tree\n",
        "\n",
        "dcounts += torch.ones_like(counts) * dcounts_sum\n",
        "\n",
        "#counts = norm_logits.exp()\n",
        "#counts = e^norm_logits\n",
        "# dL/dnorm_logits = dL/dcounts * dcounts/dnorm_logits\n",
        "#                 = dcounts    * e^norm_logits\n",
        "\n",
        "dnorm_logits = counts * dcounts\n",
        "\n",
        "\n",
        "#norm_logits = logits - logit_maxes\n",
        "# similar to out counts and counts_sum situtation, we repeat logit_maxes\n",
        "# c  = a - b\n",
        "# a[3x3] - b[3x1]\n",
        "# a11-b1 a12-b1 a13-b1\n",
        "# a21-b2 a22-b2 a23-b2\n",
        "# a31-b3 a23-b3 a33-b3\n",
        "# c[3x3]\n",
        "#dL/dlogit_maxes = dnorm_logits * dnorm_logits/dlogit_maxes\n",
        "#                               * [-1, -1, -1, ...]\n",
        "#                                 [-1, -1, -1, ...]\n",
        "#                                        ...\n",
        "\n",
        "# dL/dlogits = dnorm_logits\n",
        "dlogits = dnorm_logits.clone()\n",
        "dlogit_maxes = (-dnorm_logits).sum(1, keepdim=True)\n",
        "\n",
        "# we arent done yet with dlogits though\n",
        "# logit_maxes = logits.max(1, keepdim=True).values\n",
        "# dL/logits = dlogit_maxes * dlogit_maxes/dlogits\n",
        "\n",
        "#             dlogit_maxes/dlogits = 1 at max index per row. Everywhere else = 0\n",
        "\n",
        "#            = dlogit_maxes * 1, for the max index in each row\n",
        "\n",
        "#           dlogit_maxes linearly depends on dlogits since all the values in dlogit_maxes are in dlogits\n",
        "# only the max value participates in the deriative\n",
        "# since we are adding dlogits to\n",
        "# dlogit_maxes = [b1]\n",
        "#                [b2]\n",
        "#                 ..\n",
        "#                [b32]\n",
        "dlogits += F.one_hot(logits.max(1).indices, num_classes=logits.shape[1]) * dlogit_maxes\n",
        "\n",
        "\n",
        "# I decided to work on the deratives on paper rather than commenting them\n",
        "# don't want to spend too much time commenting each and every operation for visualization :)\n",
        "\n",
        "dh = dlogits @ W2.T\n",
        "dW2 = h.T @ dlogits\n",
        "db2 = dlogits.sum(0)\n",
        "dhpreact = (1.0 - h**2) * dh\n",
        "dbngain = (bnraw * dhpreact).sum(0, keepdim=True)\n",
        "dbnraw = bngain * dhpreact\n",
        "dbnbias = dhpreact.sum(0, keepdim=True)\n",
        "dbndiff = bnvar_inv * dbnraw\n",
        "dbnvar_inv = (bndiff * dbnraw).sum(0, keepdim=True)\n",
        "dbnvar = (-0.5*(bnvar + 1e-5)**-1.5) * dbnvar_inv\n",
        "dbndiff2 = (1.0/(n-1))*torch.ones_like(bndiff2) * dbnvar\n",
        "dbndiff += (2*bndiff) * dbndiff2\n",
        "dhprebn = dbndiff.clone()\n",
        "dbnmeani = (-dbndiff).sum(0)\n",
        "dhprebn += 1.0/n * (torch.ones_like(hprebn) * dbnmeani)\n",
        "dembcat = dhprebn @ W1.T\n",
        "dW1 = embcat.T @ dhprebn\n",
        "db1 = dhprebn.sum(0)\n",
        "demb = dembcat.view(emb.shape)\n",
        "dC = torch.zeros_like(C)\n",
        "for k in range(Xb.shape[0]):\n",
        "  for j in range(Xb.shape[1]):\n",
        "    ix = Xb[k,j]\n",
        "    dC[ix] += demb[k,j]\n",
        "\n",
        "\n",
        "cmp('dlogprobs', dlogprobs, logprobs)\n",
        "cmp('dprobs', dprobs, probs)\n",
        "cmp('dcsi', dcsi, counts_sum_inv)\n",
        "cmp('dcounts_sum', dcounts_sum, counts_sum)\n",
        "cmp('dcounts', dcounts, counts)\n",
        "cmp('dnorm_logits', dnorm_logits, norm_logits)\n",
        "cmp('dlogit_maxes', dlogit_maxes, logit_maxes)\n",
        "cmp('dlogit', dlogits, logits)\n",
        "cmp('dh', dh, h)\n",
        "cmp('dw2', dW2, W2)\n",
        "cmp('db2', db2, B2)\n",
        "cmp('dhpreact', dhpreact, hpreact)\n",
        "cmp('dbngain', dbngain, bngain)\n",
        "cmp('dbnraw', dbnraw, bnraw)\n",
        "cmp('dbnbias', dbnbias, bnbias)\n",
        "cmp('dbnvar_inv', dbnvar_inv, bnvar_inv)\n",
        "cmp('ddbnvar', dbnvar_inv, bnvar_inv)\n",
        "cmp('dbndiff2', dbndiff2, bndiff2)\n",
        "cmp('dbndiff', dbndiff, bndiff)\n",
        "cmp('dbnmeani', dbnmeani, bnmeani)\n",
        "cmp('dhprebn', dhprebn, hprebn)\n",
        "cmp('dembcat', dembcat, embcat)\n",
        "cmp('dW1', dW1, W1)\n",
        "cmp('db1', db1, B1)\n",
        "cmp('demb', demb, emb)\n",
        "cmp('dC', dC, C)\n",
        "\n",
        "\n",
        "# even thought approximations starts to become False as we go down,\n",
        "# the calculations are correct -> refering to andrej karpathy lecture\n",
        "# seems like running his jupyter notebook looked like the same thing\n",
        "# likely due to floating point percision issues\n"
      ],
      "metadata": {
        "colab": {
          "base_uri": "https://localhost:8080/"
        },
        "id": "Pi_x-AcWjjPS",
        "outputId": "19bf9deb-1a4c-4e14-baac-269d0581fa21"
      },
      "execution_count": 102,
      "outputs": [
        {
          "output_type": "stream",
          "name": "stdout",
          "text": [
            "dlogprobs       | exact: True  | approximate: True  | maxdiff: 0.0\n",
            "dprobs          | exact: True  | approximate: True  | maxdiff: 0.0\n",
            "dcsi            | exact: True  | approximate: True  | maxdiff: 0.0\n",
            "dcounts_sum     | exact: True  | approximate: True  | maxdiff: 0.0\n",
            "dcounts         | exact: True  | approximate: True  | maxdiff: 0.0\n",
            "dnorm_logits    | exact: True  | approximate: True  | maxdiff: 0.0\n",
            "dlogit_maxes    | exact: True  | approximate: True  | maxdiff: 0.0\n",
            "dlogit          | exact: True  | approximate: True  | maxdiff: 0.0\n",
            "dh              | exact: True  | approximate: True  | maxdiff: 0.0\n",
            "dw2             | exact: True  | approximate: True  | maxdiff: 0.0\n",
            "db2             | exact: True  | approximate: True  | maxdiff: 0.0\n",
            "dhpreact        | exact: False | approximate: True  | maxdiff: 9.313225746154785e-10\n",
            "dbngain         | exact: False | approximate: True  | maxdiff: 3.725290298461914e-09\n",
            "dbnraw          | exact: False | approximate: True  | maxdiff: 9.313225746154785e-10\n",
            "dbnbias         | exact: False | approximate: True  | maxdiff: 3.725290298461914e-09\n",
            "dbnvar_inv      | exact: False | approximate: True  | maxdiff: 3.725290298461914e-09\n",
            "ddbnvar         | exact: False | approximate: True  | maxdiff: 3.725290298461914e-09\n",
            "dbndiff2        | exact: False | approximate: True  | maxdiff: 1.4551915228366852e-11\n",
            "dbndiff         | exact: False | approximate: True  | maxdiff: 6.984919309616089e-10\n",
            "dbnmeani        | exact: False | approximate: True  | maxdiff: 3.725290298461914e-09\n",
            "dhprebn         | exact: False | approximate: True  | maxdiff: 6.984919309616089e-10\n",
            "dembcat         | exact: False | approximate: True  | maxdiff: 1.3969838619232178e-09\n",
            "dW1             | exact: False | approximate: True  | maxdiff: 5.587935447692871e-09\n",
            "db1             | exact: False | approximate: True  | maxdiff: 4.6566128730773926e-09\n",
            "demb            | exact: False | approximate: True  | maxdiff: 1.3969838619232178e-09\n",
            "dC              | exact: False | approximate: True  | maxdiff: 5.587935447692871e-09\n"
          ]
        }
      ]
    },
    {
      "cell_type": "code",
      "source": [
        "# backwards pass but quicker\n",
        "# cross entropy loss\n",
        "# logit_maxes = logits.max(1, keepdim=True).values\n",
        "# norm_logits = logits - logit_maxes # subtract the max so we dont get inf in counts\n",
        "# counts = norm_logits.exp()\n",
        "# counts_sum = counts.sum(1, keepdims=True)\n",
        "# counts_sum_inv = counts_sum ** -1\n",
        "# probs = counts * counts_sum_inv\n",
        "# logprobs = probs.log()\n",
        "# loss = -logprobs[range(Xb.shape[0]), Yb].mean()\n",
        "\n",
        "# can be condensed to ...\n",
        "# loss = F.cross_entropy(logits, Yb)\n",
        "\n",
        "dlogits = F.softmax(logits, 1)\n",
        "dlogits[range(n), Yb] -= 1\n",
        "dlogits /= n\n",
        "\n",
        "cmp('dlogits', dlogits, logits)"
      ],
      "metadata": {
        "colab": {
          "base_uri": "https://localhost:8080/"
        },
        "id": "G8DPrxm1l8vj",
        "outputId": "d28bb214-b71e-45d7-fb6f-d0e74662e2b8"
      },
      "execution_count": 103,
      "outputs": [
        {
          "output_type": "stream",
          "name": "stdout",
          "text": [
            "dlogits         | exact: False | approximate: True  | maxdiff: 8.614733815193176e-09\n"
          ]
        }
      ]
    },
    {
      "cell_type": "code",
      "source": [
        "F.softmax(logits, 1)[0]"
      ],
      "metadata": {
        "colab": {
          "base_uri": "https://localhost:8080/"
        },
        "id": "R2MdoR3GzGA2",
        "outputId": "b1a0abf1-a8f4-46d1-88f9-d5bf61fadd7a"
      },
      "execution_count": 104,
      "outputs": [
        {
          "output_type": "execute_result",
          "data": {
            "text/plain": [
              "tensor([0.0731, 0.0872, 0.0182, 0.0518, 0.0192, 0.0845, 0.0231, 0.0355, 0.0173,\n",
              "        0.0319, 0.0364, 0.0370, 0.0371, 0.0285, 0.0345, 0.0132, 0.0085, 0.0190,\n",
              "        0.0148, 0.0545, 0.0513, 0.0209, 0.0247, 0.0721, 0.0584, 0.0259, 0.0215],\n",
              "       grad_fn=<SelectBackward0>)"
            ]
          },
          "metadata": {},
          "execution_count": 104
        }
      ]
    },
    {
      "cell_type": "code",
      "source": [
        "dlogits[0] * n # taking out scaling by 1/n, the correct y is where we did -1"
      ],
      "metadata": {
        "colab": {
          "base_uri": "https://localhost:8080/"
        },
        "id": "6JSSXFwXzDkO",
        "outputId": "a7ba067e-6df3-4590-f787-8753ee59c859"
      },
      "execution_count": 105,
      "outputs": [
        {
          "output_type": "execute_result",
          "data": {
            "text/plain": [
              "tensor([ 0.0731,  0.0872,  0.0182,  0.0518,  0.0192,  0.0845,  0.0231,  0.0355,\n",
              "        -0.9827,  0.0319,  0.0364,  0.0370,  0.0371,  0.0285,  0.0345,  0.0132,\n",
              "         0.0085,  0.0190,  0.0148,  0.0545,  0.0513,  0.0209,  0.0247,  0.0721,\n",
              "         0.0584,  0.0259,  0.0215], grad_fn=<MulBackward0>)"
            ]
          },
          "metadata": {},
          "execution_count": 105
        }
      ]
    },
    {
      "cell_type": "code",
      "source": [
        "plt.figure(figsize=(4, 4))\n",
        "plt.imshow(dlogits.detach(), cmap='grey')"
      ],
      "metadata": {
        "colab": {
          "base_uri": "https://localhost:8080/",
          "height": 386
        },
        "id": "ZS_rZg2IyOQm",
        "outputId": "c35663c2-b231-4f44-da55-53a4af286280"
      },
      "execution_count": 106,
      "outputs": [
        {
          "output_type": "execute_result",
          "data": {
            "text/plain": [
              "<matplotlib.image.AxesImage at 0x7f37c719fa50>"
            ]
          },
          "metadata": {},
          "execution_count": 106
        },
        {
          "output_type": "display_data",
          "data": {
            "text/plain": [
              "<Figure size 400x400 with 1 Axes>"
            ],
            "image/png": "[encoded data removed]"
          },
          "metadata": {}
        }
      ]
    },
    {
      "cell_type": "code",
      "source": [
        "# bnmeani = 1/n*hprebn.sum(0, keepdim=True)\n",
        "# bndiff = hprebn - bnmeani\n",
        "# bndiff2 = bndiff**2\n",
        "# bnvar = 1/(n-1)*(bndiff2).sum(0, k   eepdim=True) # note: Bessel's correction (dividing by n-1, not n)\n",
        "# bnvar_inv = (bnvar + 1e-5)**-0.5\n",
        "# bnraw = bndiff * bnvar_inv\n",
        "# hpreact = bngain * bnraw + bnbias\n",
        "\n",
        "# can be expressed as\n",
        "\n",
        "hpreact_fast = bngain * (hprebn - hprebn.mean(0, keepdim=True)) / torch.sqrt(hprebn.var(0, keepdim=True, unbiased=True) + 1e-5) + bnbias\n",
        "print('max diff:', (hpreact_fast - hpreact).abs().max())"
      ],
      "metadata": {
        "colab": {
          "base_uri": "https://localhost:8080/"
        },
        "id": "FNuQj9Z69aK0",
        "outputId": "407e85bf-0dd7-43e4-a3e2-5a4ca3fd19fa"
      },
      "execution_count": 107,
      "outputs": [
        {
          "output_type": "stream",
          "name": "stdout",
          "text": [
            "max diff: tensor(4.7684e-07, grad_fn=<MaxBackward1>)\n"
          ]
        }
      ]
    },
    {
      "cell_type": "code",
      "source": [
        "bngain.shape, hprebn.shape"
      ],
      "metadata": {
        "colab": {
          "base_uri": "https://localhost:8080/"
        },
        "id": "Y_i0ftB7-SHa",
        "outputId": "a49a7a67-e37f-421a-de93-2094e668a4e0"
      },
      "execution_count": 108,
      "outputs": [
        {
          "output_type": "execute_result",
          "data": {
            "text/plain": [
              "(torch.Size([1, 64]), torch.Size([32, 64]))"
            ]
          },
          "metadata": {},
          "execution_count": 108
        }
      ]
    },
    {
      "cell_type": "code",
      "source": [
        "hprebn.mean(0, keepdim=True).shape"
      ],
      "metadata": {
        "colab": {
          "base_uri": "https://localhost:8080/"
        },
        "id": "vqVbwAZV-tyS",
        "outputId": "71120587-907d-4e1e-8877-3f62a16fc1cd"
      },
      "execution_count": 109,
      "outputs": [
        {
          "output_type": "execute_result",
          "data": {
            "text/plain": [
              "torch.Size([1, 64])"
            ]
          },
          "metadata": {},
          "execution_count": 109
        }
      ]
    },
    {
      "cell_type": "code",
      "source": [
        "(bngain*bnvar_inv/n).shape, (n*dhpreact - dhpreact.sum(0) - n/(n-1)*bnraw*(dhpreact*bnraw).sum(0)).shape"
      ],
      "metadata": {
        "colab": {
          "base_uri": "https://localhost:8080/"
        },
        "id": "foGpU17ZPvEB",
        "outputId": "be64e4c6-4409-4eca-ad78-73fbf11f0b1e"
      },
      "execution_count": 110,
      "outputs": [
        {
          "output_type": "execute_result",
          "data": {
            "text/plain": [
              "(torch.Size([1, 64]), torch.Size([32, 64]))"
            ]
          },
          "metadata": {},
          "execution_count": 110
        }
      ]
    },
    {
      "cell_type": "code",
      "source": [
        "(n/(n-1)*bnraw*(dhpreact*bnraw)).shape"
      ],
      "metadata": {
        "colab": {
          "base_uri": "https://localhost:8080/"
        },
        "id": "ztKMT0kHQupQ",
        "outputId": "9a17cbdc-5681-4d38-a2c8-bf815b0b395f"
      },
      "execution_count": 111,
      "outputs": [
        {
          "output_type": "execute_result",
          "data": {
            "text/plain": [
              "torch.Size([32, 64])"
            ]
          },
          "metadata": {},
          "execution_count": 111
        }
      ]
    },
    {
      "cell_type": "code",
      "source": [
        "(n*dhpreact - dhpreact.sum(0,keepdim=True)).shape, (n/(n-1)*bnraw*(dhpreact*bnraw)).sum(0, keepdim=True).shape"
      ],
      "metadata": {
        "colab": {
          "base_uri": "https://localhost:8080/"
        },
        "id": "Hsou6ZbQP2ai",
        "outputId": "e4effae8-fcb3-4d43-fb9b-29648e708bb1"
      },
      "execution_count": 112,
      "outputs": [
        {
          "output_type": "execute_result",
          "data": {
            "text/plain": [
              "(torch.Size([32, 64]), torch.Size([1, 64]))"
            ]
          },
          "metadata": {},
          "execution_count": 112
        }
      ]
    },
    {
      "cell_type": "code",
      "source": [
        "# calculating the derative of hprebn directly instead of all the intermeidate calculates\n",
        "# all of the calculations were done on paper ... it looks like there was no work prior to this lol\n",
        "\n",
        "dhprebn = bngain*bnvar_inv/n * (n*dhpreact - dhpreact.sum(0, keepdim=True) - n/(n-1)*bnraw*(dhpreact*bnraw).sum(0, keepdim=True))\n",
        "cmp('hprebn', dhprebn, hprebn)"
      ],
      "metadata": {
        "colab": {
          "base_uri": "https://localhost:8080/"
        },
        "id": "1Sfz_Wxd9sfD",
        "outputId": "d3862546-d76b-480f-d6ad-223da26c14ef"
      },
      "execution_count": 113,
      "outputs": [
        {
          "output_type": "stream",
          "name": "stdout",
          "text": [
            "hprebn          | exact: False | approximate: True  | maxdiff: 9.313225746154785e-10\n"
          ]
        }
      ]
    },
    {
      "cell_type": "code",
      "source": [
        "# the entire init and training\n",
        "\n",
        "block_size = 3\n",
        "n_embd = 10 # the dimensionality of the character embedding vectors\n",
        "n_hidden = 200 # the number of neurons in the hidden layer of the MLP\n",
        "\n",
        "g = torch.Generator().manual_seed(2147483647) # for reproducibility\n",
        "C  = torch.randn((vocab_size, n_embd),            generator=g)\n",
        "\n",
        "# Layer 1\n",
        "W1 = torch.randn((n_embd * block_size, n_hidden), generator=g) * (5/3)/((n_embd * block_size)**0.5)\n",
        "b1 = torch.randn(n_hidden,                        generator=g) * 0.1\n",
        "\n",
        "# Layer 2\n",
        "W2 = torch.randn((n_hidden, vocab_size),          generator=g) * 0.1\n",
        "b2 = torch.randn(vocab_size,                      generator=g) * 0.1\n",
        "\n",
        "# BatchNorm parameters\n",
        "bngain = torch.randn((1, n_hidden))*0.1 + 1.0\n",
        "bnbias = torch.randn((1, n_hidden))*0.1\n",
        "\n",
        "parameters = [C, W1, b1, W2, b2, bngain, bnbias]\n",
        "print(sum(p.nelement() for p in parameters))\n",
        "for p in parameters:\n",
        "  p.requires_grad = True\n",
        "\n",
        "max_steps = 200000\n",
        "batch_size = 32\n",
        "n = batch_size\n",
        "lossi = []\n",
        "\n",
        "# we dont need grads since we have our own\n",
        "with torch.no_grad():\n",
        "\n",
        "  for i in range(max_steps):\n",
        "\n",
        "    # minibatch construct\n",
        "    ix = torch.randint(0, Xtr.shape[0], (batch_size,), generator=g)\n",
        "    Xb, Yb = Xtr[ix], Ytr[ix] # batch X,Y\n",
        "\n",
        "    # forward pass\n",
        "    emb = C[Xb] # embed the characters into vectors\n",
        "    embcat = emb.view(emb.shape[0], -1) # concatenate the vectors\n",
        "\n",
        "    # Linear layer\n",
        "    hprebn = embcat @ W1 + b1 # hidden layer pre-activation\n",
        "\n",
        "    # BatchNorm layer\n",
        "    # -------------------------------------------------------------\n",
        "    bnmean = hprebn.mean(0, keepdim=True)\n",
        "    bnvar = hprebn.var(0, keepdim=True, unbiased=True)\n",
        "    bnvar_inv = (bnvar + 1e-5)**-0.5\n",
        "    bnraw = (hprebn - bnmean) * bnvar_inv\n",
        "    hpreact = bngain * bnraw + bnbias\n",
        "\n",
        "    # -------------------------------------------------------------\n",
        "    # Non-linearity\n",
        "    h = torch.tanh(hpreact) # hidden layer\n",
        "    logits = h @ W2 + b2 # output layer\n",
        "    loss = F.cross_entropy(logits, Yb) # loss function\n",
        "\n",
        "    # backward pass\n",
        "    for p in parameters:\n",
        "      p.grad = None\n",
        "    #loss.backward() # use this for correctness comparisons, delete it later\n",
        "\n",
        "    # manual backprop!\n",
        "    # -----------------\n",
        "    dlogits = F.softmax(logits, 1)\n",
        "    dlogits[range(n), Yb] -= 1\n",
        "    dlogits /= n\n",
        "\n",
        "    # 2nd layer backprop\n",
        "    dh = dlogits @ W2.T\n",
        "    dW2 = h.T @ dlogits\n",
        "    db2 = dlogits.sum(0)\n",
        "\n",
        "    # tanh\n",
        "    dhpreact = (1.0 - h**2) * dh\n",
        "\n",
        "    # batchnorm backprop\n",
        "    dbngain = (bnraw * dhpreact).sum(0, keepdim=True)\n",
        "    dbnbias = dhpreact.sum(0, keepdim=True)\n",
        "    dhprebn = bngain*bnvar_inv/n * (n*dhpreact - dhpreact.sum(0) - n/(n-1)*bnraw*(dhpreact*bnraw).sum(0))\n",
        "    # 1st layer\n",
        "    dembcat = dhprebn @ W1.T\n",
        "    dW1 = embcat.T @ dhprebn\n",
        "    db1 = dhprebn.sum(0)\n",
        "    # embedding\n",
        "    demb = dembcat.view(emb.shape)\n",
        "    dC = torch.zeros_like(C)\n",
        "    for k in range(Xb.shape[0]):\n",
        "      for j in range(Xb.shape[1]):\n",
        "        ix = Xb[k,j]\n",
        "        dC[ix] += demb[k,j]\n",
        "    grads = [dC, dW1, db1, dW2, db2, dbngain, dbnbias]\n",
        "    # -----------------\n",
        "\n",
        "    # update\n",
        "    lr = 0.1 if i < 100000 else 0.01 # step learning rate decay\n",
        "    for p, grad in zip(parameters, grads):\n",
        "      #p.data += -lr * p.grad # when using .backward() in pt\n",
        "      p.data += -lr * grad # new way :)\n",
        "\n",
        "    # track stats\n",
        "    if i % 10000 == 0: # print every once in a while\n",
        "      print(f'{i:7d}/{max_steps:7d}: {loss.item():.4f}')\n",
        "    lossi.append(loss.log10().item())\n",
        "\n",
        "    #if i >= 100: # delete early breaking when you're ready to train the full net\n",
        "      #break"
      ],
      "metadata": {
        "colab": {
          "base_uri": "https://localhost:8080/"
        },
        "id": "wMdU2Z_ISBSX",
        "outputId": "a29e202e-3b90-4ddf-ac17-42449cd25f50"
      },
      "execution_count": 120,
      "outputs": [
        {
          "output_type": "stream",
          "name": "stdout",
          "text": [
            "12297\n",
            "      0/ 200000: 3.7616\n",
            "  10000/ 200000: 2.1820\n",
            "  20000/ 200000: 2.3890\n",
            "  30000/ 200000: 2.4274\n",
            "  40000/ 200000: 2.0157\n",
            "  50000/ 200000: 2.3641\n",
            "  60000/ 200000: 2.4091\n",
            "  70000/ 200000: 2.0794\n",
            "  80000/ 200000: 2.3827\n",
            "  90000/ 200000: 2.1640\n",
            " 100000/ 200000: 1.9752\n",
            " 110000/ 200000: 2.4077\n",
            " 120000/ 200000: 2.0239\n",
            " 130000/ 200000: 2.4285\n",
            " 140000/ 200000: 2.2795\n",
            " 150000/ 200000: 2.2057\n",
            " 160000/ 200000: 1.9761\n",
            " 170000/ 200000: 1.8277\n",
            " 180000/ 200000: 2.0136\n",
            " 190000/ 200000: 1.8477\n"
          ]
        }
      ]
    },
    {
      "cell_type": "code",
      "source": [
        "plt.plot(lossi)"
      ],
      "metadata": {
        "colab": {
          "base_uri": "https://localhost:8080/",
          "height": 447
        },
        "id": "NsuEH6myYEul",
        "outputId": "f798def7-fa18-4e60-c042-5fa9d821555a"
      },
      "execution_count": 121,
      "outputs": [
        {
          "output_type": "execute_result",
          "data": {
            "text/plain": [
              "[<matplotlib.lines.Line2D at 0x7f37df3cd850>]"
            ]
          },
          "metadata": {},
          "execution_count": 121
        },
        {
          "output_type": "display_data",
          "data": {
            "text/plain": [
              "<Figure size 640x480 with 1 Axes>"
            ],
            "image/png": "[encoded data removed]"
          },
          "metadata": {}
        }
      ]
    },
    {
      "cell_type": "code",
      "source": [
        "for p,g in zip(parameters, grads):\n",
        "   cmp(str(tuple(p.shape)), g, p)"
      ],
      "metadata": {
        "colab": {
          "base_uri": "https://localhost:8080/"
        },
        "id": "YUJf4f4USf9D",
        "outputId": "aafbfac6-21a6-4cac-89ee-ad12ee7f7447"
      },
      "execution_count": 117,
      "outputs": [
        {
          "output_type": "stream",
          "name": "stdout",
          "text": [
            "(27, 10)        | exact: False | approximate: True  | maxdiff: 1.1175870895385742e-08\n",
            "(30, 200)       | exact: False | approximate: True  | maxdiff: 7.450580596923828e-09\n",
            "(200,)          | exact: False | approximate: True  | maxdiff: 4.6566128730773926e-09\n",
            "(200, 27)       | exact: False | approximate: True  | maxdiff: 1.1175870895385742e-08\n",
            "(27,)           | exact: False | approximate: True  | maxdiff: 7.450580596923828e-09\n",
            "(1, 200)        | exact: False | approximate: True  | maxdiff: 3.259629011154175e-09\n",
            "(1, 200)        | exact: False | approximate: True  | maxdiff: 3.725290298461914e-09\n"
          ]
        }
      ]
    },
    {
      "cell_type": "code",
      "source": [
        "# calibrate the batch norm at the end of training\n",
        "\n",
        "with torch.no_grad():\n",
        "  # pass the training set through\n",
        "  emb = C[Xtr]\n",
        "  embcat = emb.view(emb.shape[0], -1)\n",
        "  hpreact = embcat @ W1 + b1\n",
        "  # measure the mean/std over the entire training set\n",
        "  bnmean = hpreact.mean(0, keepdim=True)\n",
        "  bnvar = hpreact.var(0, keepdim=True, unbiased=True)"
      ],
      "metadata": {
        "id": "7yPjkgm_TWWO"
      },
      "execution_count": 124,
      "outputs": []
    },
    {
      "cell_type": "code",
      "source": [
        "# evaluate train and val loss\n",
        "\n",
        "@torch.no_grad() # this decorator disables gradient tracking\n",
        "def split_loss(split):\n",
        "  x,y = {\n",
        "    'train': (Xtr, Ytr),\n",
        "    'val': (Xdev, Ydev),\n",
        "    'test': (Xte, Yte),\n",
        "  }[split]\n",
        "  emb = C[x] # (N, block_size, n_embd)\n",
        "  embcat = emb.view(emb.shape[0], -1) # concat into (N, block_size * n_embd)\n",
        "  hpreact = embcat @ W1 + b1\n",
        "  hpreact = bngain * (hpreact - bnmean) * (bnvar + 1e-5)**-0.5 + bnbias\n",
        "  h = torch.tanh(hpreact) # (N, n_hidden)\n",
        "  logits = h @ W2 + b2 # (N, vocab_size)\n",
        "  loss = F.cross_entropy(logits, y)\n",
        "  print(split, loss.item())\n",
        "\n",
        "split_loss('train')\n",
        "split_loss('val')"
      ],
      "metadata": {
        "colab": {
          "base_uri": "https://localhost:8080/"
        },
        "id": "JIRl7KmCUPM2",
        "outputId": "6b598757-ff1d-445c-e9d7-b1f05a6fc6f2"
      },
      "execution_count": 125,
      "outputs": [
        {
          "output_type": "stream",
          "name": "stdout",
          "text": [
            "train 2.0711240768432617\n",
            "val 2.108812093734741\n"
          ]
        }
      ]
    },
    {
      "cell_type": "code",
      "source": [
        "# sample from the model\n",
        "g = torch.Generator().manual_seed(9742232)\n",
        "\n",
        "for _ in range(20):\n",
        "\n",
        "    out = []\n",
        "    context = [0] * block_size # initialize with all ...\n",
        "    while True:\n",
        "      # ------------\n",
        "      # forward pass:\n",
        "      # Embedding\n",
        "      emb = C[torch.tensor([context])] # (1,block_size,d)\n",
        "      embcat = emb.view(emb.shape[0], -1) # concat into (N, block_size * n_embd)\n",
        "      hpreact = embcat @ W1 + b1\n",
        "      hpreact = bngain * (hpreact - bnmean) * (bnvar + 1e-5)**-0.5 + bnbias\n",
        "      h = torch.tanh(hpreact) # (N, n_hidden)\n",
        "      logits = h @ W2 + b2 # (N, vocab_size)\n",
        "      # ------------\n",
        "      # Sample\n",
        "      probs = F.softmax(logits, dim=1)\n",
        "      ix = torch.multinomial(probs, num_samples=1, generator=g).item()\n",
        "      context = context[1:] + [ix]\n",
        "      out.append(ix)\n",
        "      if ix == 0:\n",
        "        break\n",
        "\n",
        "    print(''.join(itoc[i] for i in out))"
      ],
      "metadata": {
        "colab": {
          "base_uri": "https://localhost:8080/"
        },
        "id": "dCmtiXixURdd",
        "outputId": "b27aefa6-b441-4c30-89bc-332ddec7c077"
      },
      "execution_count": 150,
      "outputs": [
        {
          "output_type": "stream",
          "name": "stdout",
          "text": [
            "savin.\n",
            "tradynie.\n",
            "hassitan.\n",
            "carlisa.\n",
            "caliya.\n",
            "tney.\n",
            "kaikory.\n",
            "ery.\n",
            "emma.\n",
            "jachar.\n",
            "adel.\n",
            "merhlanickenther.\n",
            "bowdley.\n",
            "jeste.\n",
            "lloriya.\n",
            "advi.\n",
            "aphiro.\n",
            "blerice.\n",
            "cora.\n",
            "ismari.\n"
          ]
        }
      ]
    }
  ]
}