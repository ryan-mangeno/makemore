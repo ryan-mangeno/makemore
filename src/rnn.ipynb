{
  "cells": [
    {
      "cell_type": "code",
      "execution_count": 5,
      "metadata": {},
      "outputs": [
        {
          "name": "stdout",
          "output_type": "stream",
          "text": [
            "Requirement already satisfied: torch in /Users/ryanmangeno/Documents/dev/ai-env/lib/python3.13/site-packages (2.7.1)\n",
            "Requirement already satisfied: filelock in /Users/ryanmangeno/Documents/dev/ai-env/lib/python3.13/site-packages (from torch) (3.18.0)\n",
            "Requirement already satisfied: typing-extensions>=4.10.0 in /Users/ryanmangeno/Documents/dev/ai-env/lib/python3.13/site-packages (from torch) (4.14.0)\n",
            "Requirement already satisfied: setuptools in /Users/ryanmangeno/Documents/dev/ai-env/lib/python3.13/site-packages (from torch) (80.9.0)\n",
            "Requirement already satisfied: sympy>=1.13.3 in /Users/ryanmangeno/Documents/dev/ai-env/lib/python3.13/site-packages (from torch) (1.14.0)\n",
            "Requirement already satisfied: networkx in /Users/ryanmangeno/Documents/dev/ai-env/lib/python3.13/site-packages (from torch) (3.5)\n",
            "Requirement already satisfied: jinja2 in /Users/ryanmangeno/Documents/dev/ai-env/lib/python3.13/site-packages (from torch) (3.1.6)\n",
            "Requirement already satisfied: fsspec in /Users/ryanmangeno/Documents/dev/ai-env/lib/python3.13/site-packages (from torch) (2025.5.1)\n",
            "Requirement already satisfied: mpmath<1.4,>=1.1.0 in /Users/ryanmangeno/Documents/dev/ai-env/lib/python3.13/site-packages (from sympy>=1.13.3->torch) (1.3.0)\n",
            "Requirement already satisfied: MarkupSafe>=2.0 in /Users/ryanmangeno/Documents/dev/ai-env/lib/python3.13/site-packages (from jinja2->torch) (3.0.2)\n",
            "Collecting matplotlib\n",
            "  Using cached matplotlib-3.10.3-cp313-cp313-macosx_11_0_arm64.whl.metadata (11 kB)\n",
            "Collecting contourpy>=1.0.1 (from matplotlib)\n",
            "  Using cached contourpy-1.3.2-cp313-cp313-macosx_11_0_arm64.whl.metadata (5.5 kB)\n",
            "Collecting cycler>=0.10 (from matplotlib)\n",
            "  Using cached cycler-0.12.1-py3-none-any.whl.metadata (3.8 kB)\n",
            "Collecting fonttools>=4.22.0 (from matplotlib)\n",
            "  Using cached fonttools-4.58.4-cp313-cp313-macosx_10_13_universal2.whl.metadata (106 kB)\n",
            "Collecting kiwisolver>=1.3.1 (from matplotlib)\n",
            "  Using cached kiwisolver-1.4.8-cp313-cp313-macosx_11_0_arm64.whl.metadata (6.2 kB)\n",
            "Collecting numpy>=1.23 (from matplotlib)\n",
            "  Using cached numpy-2.3.0-cp313-cp313-macosx_14_0_arm64.whl.metadata (62 kB)\n",
            "Requirement already satisfied: packaging>=20.0 in /Users/ryanmangeno/Documents/dev/ai-env/lib/python3.13/site-packages (from matplotlib) (25.0)\n",
            "Collecting pillow>=8 (from matplotlib)\n",
            "  Using cached pillow-11.2.1-cp313-cp313-macosx_11_0_arm64.whl.metadata (8.9 kB)\n",
            "Collecting pyparsing>=2.3.1 (from matplotlib)\n",
            "  Using cached pyparsing-3.2.3-py3-none-any.whl.metadata (5.0 kB)\n",
            "Requirement already satisfied: python-dateutil>=2.7 in /Users/ryanmangeno/Documents/dev/ai-env/lib/python3.13/site-packages (from matplotlib) (2.9.0.post0)\n",
            "Requirement already satisfied: six>=1.5 in /Users/ryanmangeno/Documents/dev/ai-env/lib/python3.13/site-packages (from python-dateutil>=2.7->matplotlib) (1.17.0)\n",
            "Using cached matplotlib-3.10.3-cp313-cp313-macosx_11_0_arm64.whl (8.1 MB)\n",
            "Using cached contourpy-1.3.2-cp313-cp313-macosx_11_0_arm64.whl (255 kB)\n",
            "Using cached cycler-0.12.1-py3-none-any.whl (8.3 kB)\n",
            "Using cached fonttools-4.58.4-cp313-cp313-macosx_10_13_universal2.whl (2.7 MB)\n",
            "Using cached kiwisolver-1.4.8-cp313-cp313-macosx_11_0_arm64.whl (65 kB)\n",
            "Using cached numpy-2.3.0-cp313-cp313-macosx_14_0_arm64.whl (5.1 MB)\n",
            "Using cached pillow-11.2.1-cp313-cp313-macosx_11_0_arm64.whl (3.0 MB)\n",
            "Using cached pyparsing-3.2.3-py3-none-any.whl (111 kB)\n",
            "Installing collected packages: pyparsing, pillow, numpy, kiwisolver, fonttools, cycler, contourpy, matplotlib\n",
            "\u001b[2K   \u001b[90m━━━━━━━━━━━━━━━━━━━━━━━━━━━━━━━━━━━━━━━━\u001b[0m \u001b[32m8/8\u001b[0m [matplotlib]8\u001b[0m [matplotlib]\n",
            "\u001b[1A\u001b[2KSuccessfully installed contourpy-1.3.2 cycler-0.12.1 fonttools-4.58.4 kiwisolver-1.4.8 matplotlib-3.10.3 numpy-2.3.0 pillow-11.2.1 pyparsing-3.2.3\n",
            "Requirement already satisfied: numpy in /Users/ryanmangeno/Documents/dev/ai-env/lib/python3.13/site-packages (2.3.0)\n",
            "Collecting kagglehub\n",
            "  Downloading kagglehub-0.3.12-py3-none-any.whl.metadata (38 kB)\n",
            "Requirement already satisfied: packaging in /Users/ryanmangeno/Documents/dev/ai-env/lib/python3.13/site-packages (from kagglehub) (25.0)\n",
            "Collecting pyyaml (from kagglehub)\n",
            "  Using cached PyYAML-6.0.2-cp313-cp313-macosx_11_0_arm64.whl.metadata (2.1 kB)\n",
            "Collecting requests (from kagglehub)\n",
            "  Using cached requests-2.32.4-py3-none-any.whl.metadata (4.9 kB)\n",
            "Collecting tqdm (from kagglehub)\n",
            "  Using cached tqdm-4.67.1-py3-none-any.whl.metadata (57 kB)\n",
            "Collecting charset_normalizer<4,>=2 (from requests->kagglehub)\n",
            "  Using cached charset_normalizer-3.4.2-cp313-cp313-macosx_10_13_universal2.whl.metadata (35 kB)\n",
            "Collecting idna<4,>=2.5 (from requests->kagglehub)\n",
            "  Using cached idna-3.10-py3-none-any.whl.metadata (10 kB)\n",
            "Collecting urllib3<3,>=1.21.1 (from requests->kagglehub)\n",
            "  Downloading urllib3-2.5.0-py3-none-any.whl.metadata (6.5 kB)\n",
            "Collecting certifi>=2017.4.17 (from requests->kagglehub)\n",
            "  Using cached certifi-2025.6.15-py3-none-any.whl.metadata (2.4 kB)\n",
            "Downloading kagglehub-0.3.12-py3-none-any.whl (67 kB)\n",
            "Using cached PyYAML-6.0.2-cp313-cp313-macosx_11_0_arm64.whl (171 kB)\n",
            "Using cached requests-2.32.4-py3-none-any.whl (64 kB)\n",
            "Using cached charset_normalizer-3.4.2-cp313-cp313-macosx_10_13_universal2.whl (199 kB)\n",
            "Using cached idna-3.10-py3-none-any.whl (70 kB)\n",
            "Downloading urllib3-2.5.0-py3-none-any.whl (129 kB)\n",
            "Using cached certifi-2025.6.15-py3-none-any.whl (157 kB)\n",
            "Using cached tqdm-4.67.1-py3-none-any.whl (78 kB)\n",
            "Installing collected packages: urllib3, tqdm, pyyaml, idna, charset_normalizer, certifi, requests, kagglehub\n",
            "\u001b[2K   \u001b[90m━━━━━━━━━━━━━━━━━━━━━━━━━━━━━━━━━━━━━━━━\u001b[0m \u001b[32m8/8\u001b[0m [kagglehub]/8\u001b[0m [requests]\n",
            "\u001b[1A\u001b[2KSuccessfully installed certifi-2025.6.15 charset_normalizer-3.4.2 idna-3.10 kagglehub-0.3.12 pyyaml-6.0.2 requests-2.32.4 tqdm-4.67.1 urllib3-2.5.0\n"
          ]
        }
      ],
      "source": [
        "!pip install torch\n",
        "!pip install matplotlib\n",
        "!pip install numpy\n",
        "!pip install kagglehub"
      ]
    },
    {
      "cell_type": "code",
      "execution_count": 271,
      "metadata": {
        "id": "5ZuaZUp5oJh8"
      },
      "outputs": [],
      "source": [
        "import torch.nn.functional as F\n",
        "import matplotlib.pyplot as plt\n",
        "import numpy as np\n",
        "import kagglehub\n",
        "import torch\n",
        "import os\n",
        "from torch.distributions import Categorical\n",
        "%matplotlib inline"
      ]
    },
    {
      "cell_type": "markdown",
      "metadata": {
        "id": "azgDdIu0lwVv"
      },
      "source": []
    },
    {
      "cell_type": "code",
      "execution_count": 586,
      "metadata": {
        "id": "g44jFQs2qCGl"
      },
      "outputs": [],
      "source": [
        "def download_dataset() -> str:\n",
        "    path = kagglehub.dataset_download(\"rishitjakharia/names-txt\")\n",
        "    return path # for easier access later"
      ]
    },
    {
      "cell_type": "code",
      "execution_count": 587,
      "metadata": {
        "colab": {
          "base_uri": "https://localhost:8080/"
        },
        "id": "MA9H16s-qPXT",
        "outputId": "c80c0fdd-a5c0-4e6d-c8a6-10545316963a"
      },
      "outputs": [],
      "source": [
        "dataset_path = download_dataset() + \"/names.txt\""
      ]
    },
    {
      "cell_type": "code",
      "execution_count": 588,
      "metadata": {
        "id": "VYqGvxdiqWwr"
      },
      "outputs": [],
      "source": [
        "words = open(dataset_path, 'r').read().splitlines()"
      ]
    },
    {
      "cell_type": "code",
      "execution_count": 589,
      "metadata": {
        "id": "K2-SWXb-qnq7"
      },
      "outputs": [],
      "source": [
        "def make_int_char_maps() -> tuple[dict, dict]:\n",
        "  chars = sorted(list(set(''.join(words))))\n",
        "  ctoi = {c: i + 1 for i, c in enumerate(chars)}\n",
        "  ctoi['.'] = 0\n",
        "  itoc = {i: c for c, i in ctoi.items()}\n",
        "  return ctoi, itoc"
      ]
    },
    {
      "cell_type": "code",
      "execution_count": 590,
      "metadata": {
        "id": "RdXYrtwBq5sT"
      },
      "outputs": [],
      "source": [
        "ctoi, itoc = make_int_char_maps()"
      ]
    },
    {
      "cell_type": "code",
      "execution_count": 591,
      "metadata": {
        "colab": {
          "base_uri": "https://localhost:8080/"
        },
        "id": "niQbCUjPrAuD",
        "outputId": "6fd5a885-ce39-4d1a-823e-c0a76e440638"
      },
      "outputs": [
        {
          "name": "stdout",
          "output_type": "stream",
          "text": [
            "{1: 'a', 2: 'b', 3: 'c', 4: 'd', 5: 'e', 6: 'f', 7: 'g', 8: 'h', 9: 'i', 10: 'j', 11: 'k', 12: 'l', 13: 'm', 14: 'n', 15: 'o', 16: 'p', 17: 'q', 18: 'r', 19: 's', 20: 't', 21: 'u', 22: 'v', 23: 'w', 24: 'x', 25: 'y', 26: 'z', 0: '.'}\n"
          ]
        }
      ],
      "source": [
        "print(itoc)"
      ]
    },
    {
      "cell_type": "code",
      "execution_count": 592,
      "metadata": {
        "colab": {
          "base_uri": "https://localhost:8080/"
        },
        "id": "4t-Rs9ExvDw2",
        "outputId": "b51c2c4b-6ef4-437f-cc30-7311e8b1e209"
      },
      "outputs": [
        {
          "name": "stdout",
          "output_type": "stream",
          "text": [
            "{'a': 1, 'b': 2, 'c': 3, 'd': 4, 'e': 5, 'f': 6, 'g': 7, 'h': 8, 'i': 9, 'j': 10, 'k': 11, 'l': 12, 'm': 13, 'n': 14, 'o': 15, 'p': 16, 'q': 17, 'r': 18, 's': 19, 't': 20, 'u': 21, 'v': 22, 'w': 23, 'x': 24, 'y': 25, 'z': 26, '.': 0}\n"
          ]
        }
      ],
      "source": [
        "print(ctoi)"
      ]
    },
    {
      "cell_type": "code",
      "execution_count": 593,
      "metadata": {
        "colab": {
          "base_uri": "https://localhost:8080/"
        },
        "id": "Bpbdik5_ne80",
        "outputId": "93432146-53fd-4ba9-b711-792cf4885f5b"
      },
      "outputs": [
        {
          "name": "stdout",
          "output_type": "stream",
          "text": [
            "27\n"
          ]
        }
      ],
      "source": [
        "vocab_size = len(ctoi)\n",
        "print(vocab_size)"
      ]
    },
    {
      "cell_type": "code",
      "execution_count": 746,
      "metadata": {
        "id": "jJqoPknQvJ2N"
      },
      "outputs": [],
      "source": [
        "block_size = 6\n",
        "def build_dataset(inp_words) -> tuple[torch.tensor, torch.tensor]:\n",
        "  inp, target = [], []\n",
        "  for w in inp_words: \n",
        "    context = [0] * block_size\n",
        "\n",
        "    for ch in w + '.':\n",
        "      ix = ctoi[ch]\n",
        "      inp.append(context)\n",
        "      target.append(ix)\n",
        "      context = context[1:] + [ix] # crop and append\n",
        "\n",
        "  inp = torch.tensor(inp)\n",
        "  target = torch.tensor(target)\n",
        "  return inp, target"
      ]
    },
    {
      "cell_type": "code",
      "execution_count": 747,
      "metadata": {
        "id": "wjgYr1ucOsG3"
      },
      "outputs": [],
      "source": [
        "import random\n",
        "random.shuffle(words)\n",
        "n1 = int(0.8 * len(words))\n",
        "n2 = int(0.9 * len(words))\n",
        "\n",
        "Xtr, Ytr = build_dataset(words[:n1])\n",
        "Xdev, Ydev = build_dataset(words[n1:n2])\n",
        "Xte, Yte = build_dataset(words[n2:])\n"
      ]
    },
    {
      "cell_type": "code",
      "execution_count": 748,
      "metadata": {},
      "outputs": [
        {
          "data": {
            "text/plain": [
              "(torch.Size([182614, 6]), torch.Size([182614]))"
            ]
          },
          "execution_count": 748,
          "metadata": {},
          "output_type": "execute_result"
        }
      ],
      "source": [
        "Xtr.shape, Ytr.shape"
      ]
    },
    {
      "cell_type": "code",
      "execution_count": 749,
      "metadata": {
        "colab": {
          "base_uri": "https://localhost:8080/"
        },
        "id": "4YCp0YnriePg",
        "outputId": "e37210b7-1fd4-4680-d129-daacaaa929cc"
      },
      "outputs": [
        {
          "name": "stdout",
          "output_type": "stream",
          "text": [
            "...... --> k\n",
            ".....k --> l\n",
            "....kl --> o\n",
            "...klo --> e\n",
            "..kloe --> y\n",
            ".kloey --> .\n",
            "...... --> r\n",
            ".....r --> o\n",
            "....ro --> y\n",
            "...roy --> a\n",
            "..roya --> l\n",
            ".royal --> l\n",
            "royall --> e\n",
            "oyalle --> .\n",
            "...... --> s\n",
            ".....s --> i\n",
            "....si --> t\n",
            "...sit --> o\n",
            "..sito --> r\n",
            ".sitor --> a\n",
            "sitora --> .\n",
            "...... --> s\n",
            ".....s --> a\n",
            "....sa --> a\n",
            "...saa --> r\n",
            "..saar --> t\n",
            ".saart --> h\n",
            "saarth --> .\n",
            "...... --> k\n",
            ".....k --> e\n"
          ]
        }
      ],
      "source": [
        "for x,y in zip(Xtr[:30], Ytr[:30]):\n",
        "  print(''.join(itoc[ix.item()] for ix in x), '-->', itoc[y.item()])"
      ]
    },
    {
      "cell_type": "code",
      "execution_count": 750,
      "metadata": {},
      "outputs": [],
      "source": [
        "import torch.nn as nn"
      ]
    },
    {
      "cell_type": "code",
      "execution_count": 792,
      "metadata": {},
      "outputs": [],
      "source": [
        "n_emb = 32 # dimensionality of the character vectors\n",
        "n_hidden = 100 # num hidden layer neurons\n",
        "num_layers = 1"
      ]
    },
    {
      "cell_type": "code",
      "execution_count": 793,
      "metadata": {},
      "outputs": [],
      "source": [
        "class CharRNN(nn.Module):\n",
        "    def __init__(self, vocab_size, embd_size, hidden_size, num_layers):\n",
        "        super().__init__()\n",
        "        self.embedding = nn.Embedding(vocab_size, embd_size)  \n",
        "        self.rnn = nn.LSTM(input_size=embd_size, hidden_size=hidden_size, num_layers=num_layers, batch_first=True)\n",
        "        self.decoder = nn.Linear(hidden_size, vocab_size)\n",
        "    \n",
        "    def forward(self, input_seq, hidden_state=None):\n",
        "        # input_seq: (seq_len, batch)\n",
        "        embedding = self.embedding(input_seq)  \n",
        "        output, hidden_state = self.rnn(embedding, hidden_state)\n",
        "        out = self.decoder(output)  \n",
        "        return out, (hidden_state[0].detach(), hidden_state[1].detach())"
      ]
    },
    {
      "cell_type": "code",
      "execution_count": 802,
      "metadata": {},
      "outputs": [
        {
          "name": "stdout",
          "output_type": "stream",
          "text": [
            "Num Params: 57191\n"
          ]
        }
      ],
      "source": [
        "model = CharRNN(vocab_size, n_emb, n_hidden, num_layers)\n",
        "\n",
        "# make the last layer less confident\n",
        "with torch.no_grad():\n",
        "    model.decoder.weight.mul(0.1)\n",
        "\n",
        "params = model.parameters()\n",
        "print(f\"Num Params: {sum(p.nelement() for p in params)}\")\n",
        "for param in params:\n",
        "    param.requires_grad = True\n",
        "\n",
        "\n",
        "optimizer = torch.optim.SGD(model.parameters(), lr=0.005)\n",
        "scheduler = torch.optim.lr_scheduler.StepLR(optimizer, step_size=50_000, gamma=0.5) \n"
      ]
    },
    {
      "cell_type": "code",
      "execution_count": 803,
      "metadata": {},
      "outputs": [
        {
          "name": "stdout",
          "output_type": "stream",
          "text": [
            "CharRNN(\n",
            "  (embedding): Embedding(27, 32)\n",
            "  (rnn): LSTM(32, 100, batch_first=True)\n",
            "  (decoder): Linear(in_features=100, out_features=27, bias=True)\n",
            ")\n"
          ]
        }
      ],
      "source": [
        "print(model)"
      ]
    },
    {
      "cell_type": "code",
      "execution_count": 804,
      "metadata": {},
      "outputs": [],
      "source": [
        "def sample_name(model, block_size, ctoi, itoc, device):\n",
        "    model.eval()\n",
        "    context = [ctoi['.']] * block_size\n",
        "    name = ''\n",
        "    hidden = None\n",
        "    while True:\n",
        "        x = torch.tensor([context], dtype=torch.long).to(device)\n",
        "        logits, hidden = model(x, hidden)            # logits: (1, seq_len, vocab_size)\n",
        "        logits = logits[:, -1, :]                    # take the output at the last timestep: (1, vocab_size)\n",
        "        probs = F.softmax(logits, dim=-1)            # (1, vocab_size)\n",
        "        dist = Categorical(probs)\n",
        "        idx = dist.sample().item()\n",
        "        char = itoc[idx]\n",
        "        if char == '.':\n",
        "            break\n",
        "        name += char\n",
        "        context = context[1:] + [idx]\n",
        "    model.train()\n",
        "    return name.capitalize()"
      ]
    },
    {
      "cell_type": "code",
      "execution_count": 805,
      "metadata": {},
      "outputs": [],
      "source": [
        "lossi = []\n",
        "\n",
        "def train(\n",
        "    X, Y, model, epochs=10_000, batch_size=256, lr=0.01, device='mps'\n",
        "):\n",
        "    model = model.to(device)\n",
        "    X, Y = X.to(device), Y.to(device)\n",
        "\n",
        "    optimizer = torch.optim.Adam(model.parameters(), lr=lr)\n",
        "    scheduler = torch.optim.lr_scheduler.ExponentialLR(optimizer, gamma=0.98)\n",
        "    loss_fn = nn.CrossEntropyLoss()\n",
        "\n",
        "    for epoch in range(1, epochs+1):\n",
        "        idxs = torch.randint(0, X.size(0), (batch_size,))\n",
        "        xb, yb = X[idxs], Y[idxs]\n",
        "        logits, _ = model(xb)\n",
        "        logits = logits[:, -1, :]   # (batch, vocab_size), at last timestep\n",
        "        loss = loss_fn(logits, yb)\n",
        "        optimizer.zero_grad()\n",
        "        loss.backward()\n",
        "        optimizer.step()\n",
        "        scheduler.step()\n",
        "        lossi.append(loss.item())\n",
        "\n",
        "        if epoch % 1_000 == 0:\n",
        "            print(f\"Epoch {epoch} | Loss: {loss:.4f}\")\n",
        "            # Sample after each epoch\n",
        "            print(\"-- Sampled names: --\")\n",
        "            for _ in range(5):\n",
        "                print(sample_name(model, block_size, ctoi, itoc, device))\n",
        "            print('-' * 30)"
      ]
    },
    {
      "cell_type": "code",
      "execution_count": 806,
      "metadata": {},
      "outputs": [
        {
          "name": "stdout",
          "output_type": "stream",
          "text": [
            "Epoch 1000 | Loss: 2.2123\n",
            "-- Sampled names: --\n",
            "Larrice\n",
            "Rumelleeu\n",
            "Jalasi\n",
            "Jyar\n",
            "Hannahlen\n",
            "------------------------------\n",
            "Epoch 2000 | Loss: 2.3107\n",
            "-- Sampled names: --\n",
            "Clyaliua\n",
            "Gbraia\n",
            "Jailiaher\n",
            "Kallan\n",
            "Ledtr\n",
            "------------------------------\n",
            "Epoch 3000 | Loss: 2.2952\n",
            "-- Sampled names: --\n",
            "Ghelanio\n",
            "Disall\n",
            "Ac\n",
            "Mabziwa\n",
            "Dakuynn\n",
            "------------------------------\n",
            "Epoch 4000 | Loss: 2.2710\n",
            "-- Sampled names: --\n",
            "Vandaya\n",
            "Hamiya\n",
            "Reilienie\n",
            "Waylline\n",
            "Mezeli\n",
            "------------------------------\n",
            "Epoch 5000 | Loss: 2.2507\n",
            "-- Sampled names: --\n",
            "Salieztery\n",
            "Ahliallen\n",
            "Jereme\n",
            "Zadau\n",
            "Deyah\n",
            "------------------------------\n",
            "Epoch 6000 | Loss: 2.2476\n",
            "-- Sampled names: --\n",
            "Latemi\n",
            "Jatie\n",
            "Zrrig\n",
            "Asrteya\n",
            "Arlelyn\n",
            "------------------------------\n",
            "Epoch 7000 | Loss: 2.3182\n",
            "-- Sampled names: --\n",
            "Kelico\n",
            "Furiwer\n",
            "Khronsue\n",
            "Koraze\n",
            "Kdemuen\n",
            "------------------------------\n",
            "Epoch 8000 | Loss: 2.4159\n",
            "-- Sampled names: --\n",
            "Wabtitux\n",
            "Gelson\n",
            "Jahlish\n",
            "Hearas\n",
            "Carlyan\n",
            "------------------------------\n",
            "Epoch 9000 | Loss: 2.2917\n",
            "-- Sampled names: --\n",
            "Atnoe\n",
            "Zasiah\n",
            "Shaoclentid\n",
            "Kanzyn\n",
            "Ckre\n",
            "------------------------------\n",
            "Epoch 10000 | Loss: 2.3614\n",
            "-- Sampled names: --\n",
            "Orinasa\n",
            "Yaid\n",
            "Amiazrid\n",
            "Arsia\n",
            "Keubthite\n",
            "------------------------------\n"
          ]
        }
      ],
      "source": [
        "train(X=Xtr, Y=Ytr, model=model)"
      ]
    },
    {
      "cell_type": "code",
      "execution_count": 807,
      "metadata": {},
      "outputs": [
        {
          "data": {
            "text/plain": [
              "[<matplotlib.lines.Line2D at 0x31e59ae90>]"
            ]
          },
          "execution_count": 807,
          "metadata": {},
          "output_type": "execute_result"
        },
        {
          "data": {
            "image/png": "[encoded data removed]",
            "text/plain": [
              "<Figure size 640x480 with 1 Axes>"
            ]
          },
          "metadata": {},
          "output_type": "display_data"
        }
      ],
      "source": [
        "plt.plot(torch.tensor(lossi).view(-1, 1000).mean(1))"
      ]
    },
    {
      "cell_type": "code",
      "execution_count": 808,
      "metadata": {},
      "outputs": [],
      "source": [
        "def split_loss(split):\n",
        "    device = \"mps\"\n",
        "    x, y = {\n",
        "        'train': (Xtr, Ytr),\n",
        "        'val': (Xdev, Ydev),\n",
        "        'test': (Xte, Yte),\n",
        "    }[split]\n",
        "\n",
        "    x, y = x.to(device), y.to(device)\n",
        "    model.eval()\n",
        "    logits, _ = model(x)\n",
        "    logits = logits[:, -1, :]\n",
        "    loss = F.cross_entropy(logits, y)\n",
        "    print(f\"{split}: {loss.item()}\")\n",
        "    model.train()"
      ]
    },
    {
      "cell_type": "code",
      "execution_count": 809,
      "metadata": {},
      "outputs": [
        {
          "name": "stdout",
          "output_type": "stream",
          "text": [
            "train: 2.2829196453094482\n",
            "test: 2.268447160720825\n",
            "val: 2.2867777347564697\n"
          ]
        }
      ],
      "source": [
        "split_loss('train')\n",
        "split_loss('test')\n",
        "split_loss('val')"
      ]
    },
    {
      "cell_type": "code",
      "execution_count": 810,
      "metadata": {},
      "outputs": [],
      "source": [
        "num_names = 1000\n",
        "with open(\"rnn-generated.txt\", 'a') as f:\n",
        "    names = []\n",
        "    for _ in range(num_names):\n",
        "        names.append(sample_name(model, block_size, ctoi, itoc, \"mps\").lower())\n",
        "\n",
        "    names.sort()\n",
        "    f.write('\\n'.join(names))"
      ]
    },
    {
      "cell_type": "code",
      "execution_count": 811,
      "metadata": {},
      "outputs": [
        {
          "name": "stdout",
          "output_type": "stream",
          "text": [
            "There exists 49 many repeats in 1000 num names\n",
            "Repeat rate is 0.0490\n"
          ]
        }
      ],
      "source": [
        "found = 0\n",
        "with open(\"rnn-generated.txt\", 'r') as f:\n",
        "    lines = f.read()\n",
        "    gen_names = lines.split('\\n')\n",
        "    for name in gen_names:\n",
        "        if name in words:\n",
        "            found += 1\n",
        "\n",
        "print(f\"There exists {found} many repeats in {num_names} num names\")\n",
        "print(f\"Repeat rate is {found/num_names:.4f}\")\n",
        "\n",
        "        "
      ]
    }
  ],
  "metadata": {
    "colab": {
      "authorship_tag": "ABX9TyOg9/fDb0gMi5cqgVYsQEep",
      "provenance": []
    },
    "kernelspec": {
      "display_name": "ai-env",
      "language": "python",
      "name": "python3"
    },
    "language_info": {
      "codemirror_mode": {
        "name": "ipython",
        "version": 3
      },
      "file_extension": ".py",
      "mimetype": "text/x-python",
      "name": "python",
      "nbconvert_exporter": "python",
      "pygments_lexer": "ipython3",
      "version": "3.13.5"
    }
  },
  "nbformat": 4,
  "nbformat_minor": 0
}
