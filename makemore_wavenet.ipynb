{
  "cells": [
    {
      "cell_type": "code",
      "execution_count": 5,
      "metadata": {},
      "outputs": [
        {
          "name": "stdout",
          "output_type": "stream",
          "text": [
            "Requirement already satisfied: torch in /Users/ryanmangeno/Documents/dev/ai-env/lib/python3.13/site-packages (2.7.1)\n",
            "Requirement already satisfied: filelock in /Users/ryanmangeno/Documents/dev/ai-env/lib/python3.13/site-packages (from torch) (3.18.0)\n",
            "Requirement already satisfied: typing-extensions>=4.10.0 in /Users/ryanmangeno/Documents/dev/ai-env/lib/python3.13/site-packages (from torch) (4.14.0)\n",
            "Requirement already satisfied: setuptools in /Users/ryanmangeno/Documents/dev/ai-env/lib/python3.13/site-packages (from torch) (80.9.0)\n",
            "Requirement already satisfied: sympy>=1.13.3 in /Users/ryanmangeno/Documents/dev/ai-env/lib/python3.13/site-packages (from torch) (1.14.0)\n",
            "Requirement already satisfied: networkx in /Users/ryanmangeno/Documents/dev/ai-env/lib/python3.13/site-packages (from torch) (3.5)\n",
            "Requirement already satisfied: jinja2 in /Users/ryanmangeno/Documents/dev/ai-env/lib/python3.13/site-packages (from torch) (3.1.6)\n",
            "Requirement already satisfied: fsspec in /Users/ryanmangeno/Documents/dev/ai-env/lib/python3.13/site-packages (from torch) (2025.5.1)\n",
            "Requirement already satisfied: mpmath<1.4,>=1.1.0 in /Users/ryanmangeno/Documents/dev/ai-env/lib/python3.13/site-packages (from sympy>=1.13.3->torch) (1.3.0)\n",
            "Requirement already satisfied: MarkupSafe>=2.0 in /Users/ryanmangeno/Documents/dev/ai-env/lib/python3.13/site-packages (from jinja2->torch) (3.0.2)\n",
            "Collecting matplotlib\n",
            "  Using cached matplotlib-3.10.3-cp313-cp313-macosx_11_0_arm64.whl.metadata (11 kB)\n",
            "Collecting contourpy>=1.0.1 (from matplotlib)\n",
            "  Using cached contourpy-1.3.2-cp313-cp313-macosx_11_0_arm64.whl.metadata (5.5 kB)\n",
            "Collecting cycler>=0.10 (from matplotlib)\n",
            "  Using cached cycler-0.12.1-py3-none-any.whl.metadata (3.8 kB)\n",
            "Collecting fonttools>=4.22.0 (from matplotlib)\n",
            "  Using cached fonttools-4.58.4-cp313-cp313-macosx_10_13_universal2.whl.metadata (106 kB)\n",
            "Collecting kiwisolver>=1.3.1 (from matplotlib)\n",
            "  Using cached kiwisolver-1.4.8-cp313-cp313-macosx_11_0_arm64.whl.metadata (6.2 kB)\n",
            "Collecting numpy>=1.23 (from matplotlib)\n",
            "  Using cached numpy-2.3.0-cp313-cp313-macosx_14_0_arm64.whl.metadata (62 kB)\n",
            "Requirement already satisfied: packaging>=20.0 in /Users/ryanmangeno/Documents/dev/ai-env/lib/python3.13/site-packages (from matplotlib) (25.0)\n",
            "Collecting pillow>=8 (from matplotlib)\n",
            "  Using cached pillow-11.2.1-cp313-cp313-macosx_11_0_arm64.whl.metadata (8.9 kB)\n",
            "Collecting pyparsing>=2.3.1 (from matplotlib)\n",
            "  Using cached pyparsing-3.2.3-py3-none-any.whl.metadata (5.0 kB)\n",
            "Requirement already satisfied: python-dateutil>=2.7 in /Users/ryanmangeno/Documents/dev/ai-env/lib/python3.13/site-packages (from matplotlib) (2.9.0.post0)\n",
            "Requirement already satisfied: six>=1.5 in /Users/ryanmangeno/Documents/dev/ai-env/lib/python3.13/site-packages (from python-dateutil>=2.7->matplotlib) (1.17.0)\n",
            "Using cached matplotlib-3.10.3-cp313-cp313-macosx_11_0_arm64.whl (8.1 MB)\n",
            "Using cached contourpy-1.3.2-cp313-cp313-macosx_11_0_arm64.whl (255 kB)\n",
            "Using cached cycler-0.12.1-py3-none-any.whl (8.3 kB)\n",
            "Using cached fonttools-4.58.4-cp313-cp313-macosx_10_13_universal2.whl (2.7 MB)\n",
            "Using cached kiwisolver-1.4.8-cp313-cp313-macosx_11_0_arm64.whl (65 kB)\n",
            "Using cached numpy-2.3.0-cp313-cp313-macosx_14_0_arm64.whl (5.1 MB)\n",
            "Using cached pillow-11.2.1-cp313-cp313-macosx_11_0_arm64.whl (3.0 MB)\n",
            "Using cached pyparsing-3.2.3-py3-none-any.whl (111 kB)\n",
            "Installing collected packages: pyparsing, pillow, numpy, kiwisolver, fonttools, cycler, contourpy, matplotlib\n",
            "\u001b[2K   \u001b[90m━━━━━━━━━━━━━━━━━━━━━━━━━━━━━━━━━━━━━━━━\u001b[0m \u001b[32m8/8\u001b[0m [matplotlib]8\u001b[0m [matplotlib]\n",
            "\u001b[1A\u001b[2KSuccessfully installed contourpy-1.3.2 cycler-0.12.1 fonttools-4.58.4 kiwisolver-1.4.8 matplotlib-3.10.3 numpy-2.3.0 pillow-11.2.1 pyparsing-3.2.3\n",
            "Requirement already satisfied: numpy in /Users/ryanmangeno/Documents/dev/ai-env/lib/python3.13/site-packages (2.3.0)\n",
            "Collecting kagglehub\n",
            "  Downloading kagglehub-0.3.12-py3-none-any.whl.metadata (38 kB)\n",
            "Requirement already satisfied: packaging in /Users/ryanmangeno/Documents/dev/ai-env/lib/python3.13/site-packages (from kagglehub) (25.0)\n",
            "Collecting pyyaml (from kagglehub)\n",
            "  Using cached PyYAML-6.0.2-cp313-cp313-macosx_11_0_arm64.whl.metadata (2.1 kB)\n",
            "Collecting requests (from kagglehub)\n",
            "  Using cached requests-2.32.4-py3-none-any.whl.metadata (4.9 kB)\n",
            "Collecting tqdm (from kagglehub)\n",
            "  Using cached tqdm-4.67.1-py3-none-any.whl.metadata (57 kB)\n",
            "Collecting charset_normalizer<4,>=2 (from requests->kagglehub)\n",
            "  Using cached charset_normalizer-3.4.2-cp313-cp313-macosx_10_13_universal2.whl.metadata (35 kB)\n",
            "Collecting idna<4,>=2.5 (from requests->kagglehub)\n",
            "  Using cached idna-3.10-py3-none-any.whl.metadata (10 kB)\n",
            "Collecting urllib3<3,>=1.21.1 (from requests->kagglehub)\n",
            "  Downloading urllib3-2.5.0-py3-none-any.whl.metadata (6.5 kB)\n",
            "Collecting certifi>=2017.4.17 (from requests->kagglehub)\n",
            "  Using cached certifi-2025.6.15-py3-none-any.whl.metadata (2.4 kB)\n",
            "Downloading kagglehub-0.3.12-py3-none-any.whl (67 kB)\n",
            "Using cached PyYAML-6.0.2-cp313-cp313-macosx_11_0_arm64.whl (171 kB)\n",
            "Using cached requests-2.32.4-py3-none-any.whl (64 kB)\n",
            "Using cached charset_normalizer-3.4.2-cp313-cp313-macosx_10_13_universal2.whl (199 kB)\n",
            "Using cached idna-3.10-py3-none-any.whl (70 kB)\n",
            "Downloading urllib3-2.5.0-py3-none-any.whl (129 kB)\n",
            "Using cached certifi-2025.6.15-py3-none-any.whl (157 kB)\n",
            "Using cached tqdm-4.67.1-py3-none-any.whl (78 kB)\n",
            "Installing collected packages: urllib3, tqdm, pyyaml, idna, charset_normalizer, certifi, requests, kagglehub\n",
            "\u001b[2K   \u001b[90m━━━━━━━━━━━━━━━━━━━━━━━━━━━━━━━━━━━━━━━━\u001b[0m \u001b[32m8/8\u001b[0m [kagglehub]/8\u001b[0m [requests]\n",
            "\u001b[1A\u001b[2KSuccessfully installed certifi-2025.6.15 charset_normalizer-3.4.2 idna-3.10 kagglehub-0.3.12 pyyaml-6.0.2 requests-2.32.4 tqdm-4.67.1 urllib3-2.5.0\n"
          ]
        }
      ],
      "source": [
        "!pip install torch\n",
        "!pip install matplotlib\n",
        "!pip install numpy\n",
        "!pip install kagglehub"
      ]
    },
    {
      "cell_type": "code",
      "execution_count": 152,
      "metadata": {
        "id": "5ZuaZUp5oJh8"
      },
      "outputs": [],
      "source": [
        "import torch.nn.functional as F\n",
        "from torch.distributions import Uniform\n",
        "import matplotlib.pyplot as plt\n",
        "import numpy as np\n",
        "import kagglehub\n",
        "import torch\n",
        "import os\n",
        "%matplotlib inline"
      ]
    },
    {
      "cell_type": "markdown",
      "metadata": {
        "id": "azgDdIu0lwVv"
      },
      "source": []
    },
    {
      "cell_type": "code",
      "execution_count": 33,
      "metadata": {
        "id": "g44jFQs2qCGl"
      },
      "outputs": [],
      "source": [
        "def download_dataset() -> str:\n",
        "    path = kagglehub.dataset_download(\"rishitjakharia/names-txt\")\n",
        "    return path # for easier access later"
      ]
    },
    {
      "cell_type": "code",
      "execution_count": 34,
      "metadata": {
        "colab": {
          "base_uri": "https://localhost:8080/"
        },
        "id": "MA9H16s-qPXT",
        "outputId": "c80c0fdd-a5c0-4e6d-c8a6-10545316963a"
      },
      "outputs": [],
      "source": [
        "dataset_path = download_dataset() + \"/names.txt\""
      ]
    },
    {
      "cell_type": "code",
      "execution_count": 35,
      "metadata": {
        "id": "VYqGvxdiqWwr"
      },
      "outputs": [],
      "source": [
        "words = open(dataset_path, 'r').read().splitlines()"
      ]
    },
    {
      "cell_type": "code",
      "execution_count": 36,
      "metadata": {
        "id": "K2-SWXb-qnq7"
      },
      "outputs": [],
      "source": [
        "def make_int_char_maps() -> tuple[dict, dict]:\n",
        "  chars = sorted(list(set(''.join(words))))\n",
        "  ctoi = {c: i + 1 for i, c in enumerate(chars)}\n",
        "  ctoi['.'] = 0\n",
        "  itoc = {i: c for c, i in ctoi.items()}\n",
        "  return ctoi, itoc"
      ]
    },
    {
      "cell_type": "code",
      "execution_count": 37,
      "metadata": {
        "id": "RdXYrtwBq5sT"
      },
      "outputs": [],
      "source": [
        "ctoi, itoc = make_int_char_maps()"
      ]
    },
    {
      "cell_type": "code",
      "execution_count": 38,
      "metadata": {
        "colab": {
          "base_uri": "https://localhost:8080/"
        },
        "id": "niQbCUjPrAuD",
        "outputId": "6fd5a885-ce39-4d1a-823e-c0a76e440638"
      },
      "outputs": [
        {
          "name": "stdout",
          "output_type": "stream",
          "text": [
            "{1: 'a', 2: 'b', 3: 'c', 4: 'd', 5: 'e', 6: 'f', 7: 'g', 8: 'h', 9: 'i', 10: 'j', 11: 'k', 12: 'l', 13: 'm', 14: 'n', 15: 'o', 16: 'p', 17: 'q', 18: 'r', 19: 's', 20: 't', 21: 'u', 22: 'v', 23: 'w', 24: 'x', 25: 'y', 26: 'z', 0: '.'}\n"
          ]
        }
      ],
      "source": [
        "print(itoc)"
      ]
    },
    {
      "cell_type": "code",
      "execution_count": 39,
      "metadata": {
        "colab": {
          "base_uri": "https://localhost:8080/"
        },
        "id": "4t-Rs9ExvDw2",
        "outputId": "b51c2c4b-6ef4-437f-cc30-7311e8b1e209"
      },
      "outputs": [
        {
          "name": "stdout",
          "output_type": "stream",
          "text": [
            "{'a': 1, 'b': 2, 'c': 3, 'd': 4, 'e': 5, 'f': 6, 'g': 7, 'h': 8, 'i': 9, 'j': 10, 'k': 11, 'l': 12, 'm': 13, 'n': 14, 'o': 15, 'p': 16, 'q': 17, 'r': 18, 's': 19, 't': 20, 'u': 21, 'v': 22, 'w': 23, 'x': 24, 'y': 25, 'z': 26, '.': 0}\n"
          ]
        }
      ],
      "source": [
        "print(ctoi)"
      ]
    },
    {
      "cell_type": "code",
      "execution_count": 40,
      "metadata": {
        "colab": {
          "base_uri": "https://localhost:8080/"
        },
        "id": "Bpbdik5_ne80",
        "outputId": "93432146-53fd-4ba9-b711-792cf4885f5b"
      },
      "outputs": [
        {
          "name": "stdout",
          "output_type": "stream",
          "text": [
            "27\n"
          ]
        }
      ],
      "source": [
        "vocab_size = len(ctoi)\n",
        "print(vocab_size)"
      ]
    },
    {
      "cell_type": "code",
      "execution_count": 134,
      "metadata": {
        "id": "jJqoPknQvJ2N"
      },
      "outputs": [],
      "source": [
        "block_size = 3\n",
        "def build_dataset(inp_words) -> tuple[torch.tensor, torch.tensor]:\n",
        "  inp, target = [], []\n",
        "  for w in inp_words: \n",
        "    context = [0] * block_size\n",
        "\n",
        "    for ch in w + '.':\n",
        "      ix = ctoi[ch]\n",
        "      inp.append(context)\n",
        "      target.append(ix)\n",
        "      context = context[1:] + [ix] # crop and append\n",
        "\n",
        "  inp = torch.tensor(inp)\n",
        "  target = torch.tensor(target)\n",
        "  return inp, target"
      ]
    },
    {
      "cell_type": "code",
      "execution_count": 135,
      "metadata": {
        "id": "wjgYr1ucOsG3"
      },
      "outputs": [],
      "source": [
        "import random\n",
        "random.seed(42)\n",
        "\n",
        "random.shuffle(words)\n",
        "n1 = int(0.8 * len(words))\n",
        "n2 = int(0.9 * len(words))\n",
        "\n",
        "Xtr, Ytr = build_dataset(words[:n1])\n",
        "Xdev, Ydev = build_dataset(words[n1:n2])\n",
        "Xte, Yte = build_dataset(words[n2:])"
      ]
    },
    {
      "cell_type": "code",
      "execution_count": 136,
      "metadata": {
        "colab": {
          "base_uri": "https://localhost:8080/"
        },
        "id": "4YCp0YnriePg",
        "outputId": "e37210b7-1fd4-4680-d129-daacaaa929cc"
      },
      "outputs": [
        {
          "name": "stdout",
          "output_type": "stream",
          "text": [
            "... --> e\n",
            "..e --> b\n",
            ".eb --> r\n",
            "ebr --> i\n",
            "bri --> m\n",
            "rim --> a\n",
            "ima --> .\n",
            "... --> h\n",
            "..h --> i\n",
            ".hi --> l\n",
            "hil --> t\n",
            "ilt --> o\n",
            "lto --> n\n",
            "ton --> .\n",
            "... --> j\n",
            "..j --> h\n",
            ".jh --> e\n",
            "jhe --> n\n",
            "hen --> e\n",
            "ene --> .\n"
          ]
        }
      ],
      "source": [
        "for x,y in zip(Xtr[:20], Ytr[:20]):\n",
        "  print(''.join(itoc[ix.item()] for ix in x), '-->', itoc[y.item()])"
      ]
    },
    {
      "cell_type": "code",
      "execution_count": 163,
      "metadata": {
        "id": "9aCfwarejTWQ"
      },
      "outputs": [],
      "source": [
        "\n",
        "class Linear:\n",
        "\n",
        "  def __init__(self, fan_in, fan_out, bias=True, init_mode='kaiming'):\n",
        "    init_mode = init_mode.lower()\n",
        "    if init_mode == 'kaiming':\n",
        "      self.weight = torch.randn((fan_in, fan_out)) / fan_in**0.5 #\n",
        "      self.bias = torch.zeros(fan_out) if bias else None\n",
        "    elif init_mode == 'xavier':\n",
        "      distr = torch.sqrt(6 / (fan_in + fan_out)) # -x to x\n",
        "      uniform_dist = Uniform(-distr, distr)\n",
        "      self.weight = uniform_dist.sample(fan_in, fan_out)\n",
        "      self.bias = torch.zeros(fan_out) if bias else None\n",
        "    elif init_mode == 'glorot':\n",
        "      fan_avg = (fan_in + fan_out)/2\n",
        "      distr = torch.sqrt(3/fan_avg)\n",
        "      uniform_dist = (-distr, distr)\n",
        "      self.weight = uniform_dist.sample(fan_in, fan_out)\n",
        "      self.bias = torch.zeros(fan_out) if bias else None\n",
        "      \n",
        "      \n",
        "  def __call__(self, x):\n",
        "    self.out = x @ self.weight\n",
        "    if self.bias is not None:\n",
        "      self.out += self.bias\n",
        "    return self.out\n",
        "\n",
        "  def parameters(self):\n",
        "    return [self.weight] + ([] if self.bias is None else [self.bias])\n",
        "\n",
        "# -----------------------------------------------------------------------------------------------\n",
        "class BatchNorm1d:\n",
        "\n",
        "  def __init__(self, dim, eps=1e-5, momentum=0.1):\n",
        "    self.eps = eps\n",
        "    self.momentum = momentum\n",
        "    self.training = True\n",
        "    # parameters (trained with backprop)\n",
        "    self.gamma = torch.ones(dim)\n",
        "    self.beta = torch.zeros(dim)\n",
        "    # buffers (trained with a running 'momentum update')\n",
        "    self.running_mean = torch.zeros(dim)\n",
        "    self.running_var = torch.ones(dim)\n",
        "\n",
        "  def __call__(self, x):\n",
        "    # calculate the forward pass\n",
        "    if self.training:\n",
        "      if x.ndim == 2:\n",
        "        dim = 0\n",
        "      elif x.ndim == 3:\n",
        "        dim = (0,1)\n",
        "      xmean = x.mean(dim, keepdim=True) # batch mean\n",
        "      xvar = x.var(dim, keepdim=True) # batch variance\n",
        "    else:\n",
        "      xmean = self.running_mean\n",
        "      xvar = self.running_var\n",
        "    xhat = (x - xmean) / torch.sqrt(xvar + self.eps) # normalize to unit variance, mean of 0, variance of 1\n",
        "    self.out = self.gamma * xhat + self.beta\n",
        "    # update the buffers\n",
        "    if self.training:\n",
        "      with torch.no_grad():\n",
        "        self.running_mean = (1 - self.momentum) * self.running_mean + self.momentum * xmean\n",
        "        self.running_var = (1 - self.momentum) * self.running_var + self.momentum * xvar\n",
        "    return self.out\n",
        "\n",
        "  def parameters(self):\n",
        "    return [self.gamma, self.beta]\n",
        "\n",
        "# -----------------------------------------------------------------------------------------------\n",
        "class Tanh:\n",
        "  def __call__(self, x):\n",
        "    self.out = torch.tanh(x)\n",
        "    return self.out\n",
        "  def parameters(self):\n",
        "    return []\n",
        "\n",
        "# -----------------------------------------------------------------------------------------------\n",
        "class Embedding:\n",
        "\n",
        "  def __init__(self, num_embeddings, embedding_dim):\n",
        "    self.weight = torch.randn((num_embeddings, embedding_dim))\n",
        "\n",
        "  def __call__(self, IX):\n",
        "    self.out = self.weight[IX]\n",
        "    return self.out\n",
        "\n",
        "  def parameters(self):\n",
        "    return [self.weight]\n",
        "\n",
        "# -----------------------------------------------------------------------------------------------\n",
        "class FlattenConsecutive:\n",
        "\n",
        "  def __init__(self, n):\n",
        "    self.n = n\n",
        "\n",
        "  def __call__(self, x):\n",
        "    B, T, C = x.shape\n",
        "    x = x.view(B, T//self.n, C*self.n)\n",
        "    if x.shape[1] == 1:\n",
        "      x = x.squeeze(1)\n",
        "    self.out = x\n",
        "    return self.out\n",
        "\n",
        "  def parameters(self):\n",
        "    return []\n",
        "\n",
        "# -----------------------------------------------------------------------------------------------\n",
        "class Sequential:\n",
        "\n",
        "  def __init__(self, layers):\n",
        "    self.layers = layers\n",
        "\n",
        "  def __call__(self, x):\n",
        "    for layer in self.layers:\n",
        "      x = layer(x)\n",
        "    self.out = x\n",
        "    return self.out\n",
        "\n",
        "  def parameters(self):\n",
        "    return [p for layer in self.layers for p in layer.parameters()]"
      ]
    },
    {
      "cell_type": "code",
      "execution_count": 164,
      "metadata": {},
      "outputs": [
        {
          "data": {
            "text/plain": [
              "<torch._C.Generator at 0x11f17b150>"
            ]
          },
          "execution_count": 164,
          "metadata": {},
          "output_type": "execute_result"
        }
      ],
      "source": [
        "torch.manual_seed(42) # for reproducibility"
      ]
    },
    {
      "cell_type": "code",
      "execution_count": 165,
      "metadata": {},
      "outputs": [],
      "source": [
        "no_init = torch.randn(32, 27)\n",
        "xav = Linear(32, 27)\n",
        "kai = Linear(32, 27)"
      ]
    },
    {
      "cell_type": "code",
      "execution_count": 170,
      "metadata": {},
      "outputs": [
        {
          "name": "stdout",
          "output_type": "stream",
          "text": [
            "Num Params: 12097\n"
          ]
        }
      ],
      "source": [
        "n_emb = 10 # dimensionality of the character vectors\n",
        "n_hidden = 200 # num hidden layer neurons\n",
        "\n",
        "C = torch.randn((vocab_size, n_emb))\n",
        "layers = [\n",
        "    Linear(n_emb * block_size, n_hidden, False), BatchNorm1d(n_hidden), Tanh(),\n",
        "    Linear(n_hidden, vocab_size)\n",
        "]\n",
        "\n",
        "# param init\n",
        "with torch.no_grad():\n",
        "    layers[-1].weight *= 0.1\n",
        "\n",
        "params = [C] + [p for layer in layers for p in layer.parameters()]\n",
        "print(f\"Num Params: {sum(p.nelement() for p in params)}\")\n",
        "for param in params:\n",
        "    param.requires_grad = True"
      ]
    },
    {
      "cell_type": "code",
      "execution_count": 171,
      "metadata": {},
      "outputs": [],
      "source": [
        "lossi = []\n",
        "num_epochs = 200_000\n",
        "batch_size = 32"
      ]
    },
    {
      "cell_type": "code",
      "execution_count": 172,
      "metadata": {},
      "outputs": [
        {
          "name": "stdout",
          "output_type": "stream",
          "text": [
            "3.2876012325286865\n",
            "1.9931390285491943\n",
            "2.5179154872894287\n",
            "2.5594565868377686\n",
            "2.195441722869873\n",
            "2.7992570400238037\n",
            "2.298872470855713\n",
            "1.7699062824249268\n",
            "2.1828088760375977\n",
            "2.5534956455230713\n",
            "2.441464424133301\n",
            "1.9725322723388672\n",
            "2.092726707458496\n",
            "2.135648488998413\n",
            "2.2091362476348877\n",
            "1.9854962825775146\n",
            "1.959476351737976\n",
            "1.936100721359253\n",
            "1.8499594926834106\n",
            "2.0770726203918457\n"
          ]
        }
      ],
      "source": [
        "for i in range(num_epochs):\n",
        "\n",
        "    ixs = torch.randint(0, Xtr.shape[0], (batch_size,))\n",
        "    Yb = Ytr[ixs]\n",
        "    Xb = Xtr[ixs]\n",
        "\n",
        "    emb = C[Xb]\n",
        "    x = emb.view(emb.shape[0], -1)\n",
        "    for layer in layers:\n",
        "        x = layer(x)\n",
        "    loss = F.cross_entropy(x, Yb)\n",
        "\n",
        "    for p in params:\n",
        "        p.grad = None\n",
        "    loss.backward()\n",
        "\n",
        "    lossi.append(loss.item())\n",
        "\n",
        "    lr = 0.1 if i < 150_000 else 0.01\n",
        "    for p in params:\n",
        "        p.data += -lr * p.grad\n",
        "    \n",
        "    if i % 10_000 == 0:\n",
        "        print(loss.item())\n",
        "\n",
        "\n",
        "\n",
        "\n",
        "    "
      ]
    },
    {
      "cell_type": "code",
      "execution_count": 173,
      "metadata": {},
      "outputs": [
        {
          "data": {
            "text/plain": [
              "[<matplotlib.lines.Line2D at 0x13fd5d1d0>]"
            ]
          },
          "execution_count": 173,
          "metadata": {},
          "output_type": "execute_result"
        },
        {
          "data": {
            "image/png": "[encoded data removed]",
            "text/plain": [
              "<Figure size 640x480 with 1 Axes>"
            ]
          },
          "metadata": {},
          "output_type": "display_data"
        }
      ],
      "source": [
        "plt.plot(lossi)"
      ]
    },
    {
      "cell_type": "code",
      "execution_count": 174,
      "metadata": {},
      "outputs": [],
      "source": [
        "# to put into eval mode, espeicaly for batch norm\n",
        "for layer in layers:\n",
        "    layer.training = False"
      ]
    },
    {
      "cell_type": "code",
      "execution_count": 176,
      "metadata": {},
      "outputs": [],
      "source": [
        "@torch.no_grad()\n",
        "def split_loss(split):\n",
        "    x,y = {\n",
        "        'train' : (Xtr, Ytr),\n",
        "        'val' : (Xdev, Ydev),\n",
        "        'test': (Xte, Yte),\n",
        "    }[split]\n",
        "\n",
        "    emb = C[x]\n",
        "    x = emb.view(emb.shape[0], -1)\n",
        "    for layer in layers:\n",
        "        x = layer(x)\n",
        "    loss = F.cross_entropy(x, y)\n",
        "    print(split, loss.item())"
      ]
    },
    {
      "cell_type": "code",
      "execution_count": 177,
      "metadata": {},
      "outputs": [
        {
          "name": "stdout",
          "output_type": "stream",
          "text": [
            "train 2.0611369609832764\n"
          ]
        }
      ],
      "source": [
        "split_loss('train')"
      ]
    },
    {
      "cell_type": "code",
      "execution_count": null,
      "metadata": {},
      "outputs": [],
      "source": []
    }
  ],
  "metadata": {
    "colab": {
      "authorship_tag": "ABX9TyOg9/fDb0gMi5cqgVYsQEep",
      "provenance": []
    },
    "kernelspec": {
      "display_name": "ai-env",
      "language": "python",
      "name": "python3"
    },
    "language_info": {
      "codemirror_mode": {
        "name": "ipython",
        "version": 3
      },
      "file_extension": ".py",
      "mimetype": "text/x-python",
      "name": "python",
      "nbconvert_exporter": "python",
      "pygments_lexer": "ipython3",
      "version": "3.13.4"
    }
  },
  "nbformat": 4,
  "nbformat_minor": 0
}
