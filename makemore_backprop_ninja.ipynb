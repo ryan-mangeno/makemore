{
  "nbformat": 4,
  "nbformat_minor": 0,
  "metadata": {
    "colab": {
      "provenance": [],
      "gpuType": "T4",
      "authorship_tag": "ABX9TyNniVhIwragulzChMsSY5yg"
    },
    "kernelspec": {
      "name": "python3",
      "display_name": "Python 3"
    },
    "language_info": {
      "name": "python"
    },
    "accelerator": "GPU"
  },
  "cells": [
    {
      "cell_type": "code",
      "execution_count": 17,
      "metadata": {
        "id": "5ZuaZUp5oJh8"
      },
      "outputs": [],
      "source": [
        "import torch.nn.functional as F\n",
        "import matplotlib.pyplot as plt\n",
        "import numpy as np\n",
        "import kagglehub\n",
        "import torch\n",
        "import os\n",
        "%matplotlib inline"
      ]
    },
    {
      "cell_type": "markdown",
      "source": [],
      "metadata": {
        "id": "azgDdIu0lwVv"
      }
    },
    {
      "cell_type": "code",
      "source": [
        "def download_dataset() -> str:\n",
        "    path = kagglehub.dataset_download(\"rishitjakharia/names-txt\")\n",
        "    return path # for easier access later"
      ],
      "metadata": {
        "id": "g44jFQs2qCGl"
      },
      "execution_count": 18,
      "outputs": []
    },
    {
      "cell_type": "code",
      "source": [
        "dataset_path = download_dataset() + \"/names.txt\""
      ],
      "metadata": {
        "id": "MA9H16s-qPXT"
      },
      "execution_count": 19,
      "outputs": []
    },
    {
      "cell_type": "code",
      "source": [
        "words = open(dataset_path, 'r').read().splitlines()"
      ],
      "metadata": {
        "id": "VYqGvxdiqWwr"
      },
      "execution_count": 20,
      "outputs": []
    },
    {
      "cell_type": "code",
      "source": [
        "def make_int_char_maps() -> tuple[dict, dict]:\n",
        "  chars = sorted(list(set(''.join(words))))\n",
        "  ctoi = {c: i + 1 for i, c in enumerate(chars)}\n",
        "  ctoi['.'] = 0\n",
        "  itoc = {i: c for c, i in ctoi.items()}\n",
        "  return ctoi, itoc"
      ],
      "metadata": {
        "id": "K2-SWXb-qnq7"
      },
      "execution_count": 21,
      "outputs": []
    },
    {
      "cell_type": "code",
      "source": [
        "ctoi, itoc = make_int_char_maps()"
      ],
      "metadata": {
        "id": "RdXYrtwBq5sT"
      },
      "execution_count": 22,
      "outputs": []
    },
    {
      "cell_type": "code",
      "source": [
        "print(itoc)"
      ],
      "metadata": {
        "colab": {
          "base_uri": "https://localhost:8080/"
        },
        "id": "niQbCUjPrAuD",
        "outputId": "5756b13b-9c6c-4a95-abaa-c36d85130e0d"
      },
      "execution_count": 23,
      "outputs": [
        {
          "output_type": "stream",
          "name": "stdout",
          "text": [
            "{1: 'a', 2: 'b', 3: 'c', 4: 'd', 5: 'e', 6: 'f', 7: 'g', 8: 'h', 9: 'i', 10: 'j', 11: 'k', 12: 'l', 13: 'm', 14: 'n', 15: 'o', 16: 'p', 17: 'q', 18: 'r', 19: 's', 20: 't', 21: 'u', 22: 'v', 23: 'w', 24: 'x', 25: 'y', 26: 'z', 0: '.'}\n"
          ]
        }
      ]
    },
    {
      "cell_type": "code",
      "source": [
        "print(ctoi)"
      ],
      "metadata": {
        "colab": {
          "base_uri": "https://localhost:8080/"
        },
        "id": "4t-Rs9ExvDw2",
        "outputId": "e9b6a82a-55ab-4641-a863-eb99bbba68f6"
      },
      "execution_count": 24,
      "outputs": [
        {
          "output_type": "stream",
          "name": "stdout",
          "text": [
            "{'a': 1, 'b': 2, 'c': 3, 'd': 4, 'e': 5, 'f': 6, 'g': 7, 'h': 8, 'i': 9, 'j': 10, 'k': 11, 'l': 12, 'm': 13, 'n': 14, 'o': 15, 'p': 16, 'q': 17, 'r': 18, 's': 19, 't': 20, 'u': 21, 'v': 22, 'w': 23, 'x': 24, 'y': 25, 'z': 26, '.': 0}\n"
          ]
        }
      ]
    },
    {
      "cell_type": "code",
      "source": [
        "vocab_size = len(ctoi)\n",
        "print(vocab_size)"
      ],
      "metadata": {
        "colab": {
          "base_uri": "https://localhost:8080/"
        },
        "id": "Bpbdik5_ne80",
        "outputId": "7d382cbd-dabd-4e52-ccb1-b6d4ab795d2a"
      },
      "execution_count": 25,
      "outputs": [
        {
          "output_type": "stream",
          "name": "stdout",
          "text": [
            "27\n"
          ]
        }
      ]
    },
    {
      "cell_type": "code",
      "source": [
        "def build_dataset(inp_words) -> tuple[torch.tensor, torch.tensor]:\n",
        "\n",
        "  block_size = 3 # context length -> how many chars does it take to predict the next\n",
        "  inp, target = [], []\n",
        "  for w in inp_words:\n",
        "    context = [0] * block_size\n",
        "\n",
        "    for ch in w + '.':\n",
        "      ix = ctoi[ch]\n",
        "      inp.append(context)\n",
        "      target.append(ix)\n",
        "      context = context[1:] + [ix] # crop and append\n",
        "\n",
        "  inp = torch.tensor(inp)\n",
        "  target = torch.tensor(target)\n",
        "  return inp, target"
      ],
      "metadata": {
        "id": "jJqoPknQvJ2N"
      },
      "execution_count": 26,
      "outputs": []
    },
    {
      "cell_type": "code",
      "source": [
        "import random\n",
        "random.seed(42)\n",
        "\n",
        "random.shuffle(words)\n",
        "n1 = int(0.8 * len(words))\n",
        "n2 = int(0.9 * len(words))\n",
        "\n",
        "Xtr, Ytr = build_dataset(words[:n1])\n",
        "Xdev, Ydev = build_dataset(words[n1:n2])\n",
        "Xte, Yte = build_dataset(words[n2:])"
      ],
      "metadata": {
        "id": "wjgYr1ucOsG3"
      },
      "execution_count": 27,
      "outputs": []
    },
    {
      "cell_type": "code",
      "source": [
        "# to later compare gradients we computed to Pytorch gradients\n",
        "def cmp(s, dt, t):\n",
        "  ex = torch.all(dt == t.grad).item()\n",
        "  app = torch.allclose(dt, t.grad)\n",
        "  maxdiff = (dt - t.grad).abs().max().item()\n",
        "  print(f'{s:15s} | exact: {str(ex):5s} | approximate: {str(app):5s} | maxdiff: {maxdiff}')"
      ],
      "metadata": {
        "id": "beykf3rdPGHb"
      },
      "execution_count": 28,
      "outputs": []
    },
    {
      "cell_type": "code",
      "source": [
        "n_emb = 10\n",
        "n_context = 3\n",
        "n_hidden = 64\n",
        "\n",
        "g = torch.Generator().manual_seed(2147483647)\n",
        "C = torch.randn((vocab_size, n_emb), generator=g)\n",
        "\n",
        "# first layer                                           # kaiming init\n",
        "W1 = torch.randn((n_emb * n_context, n_hidden), generator=g) * (5/3)/((n_emb * 3) ** 0.5)\n",
        "B1 = torch.randn(n_hidden, generator=g) * 0.1 # these biases dont do anything since we saw they get subtracted in batch normlizing but its here for fun\n",
        "\n",
        "# second layer\n",
        "W2 = torch.randn((n_hidden, vocab_size), generator=g) * 0.1\n",
        "B2 = torch.randn(vocab_size, generator=g) * 0.1\n",
        "\n",
        "# batchnorm params\n",
        "bngain = torch.ones((1, n_hidden)) * 0.1 + 1.0\n",
        "bnbias = torch.zeros((1, n_hidden)) * 0.1\n",
        "\n",
        "parameters = [C, W1, B1, W2, B2, bngain, bnbias]\n",
        "print(sum(p.nelement() for p in parameters)) # number of parameters in total\n",
        "for p in parameters:\n",
        "  p.requires_grad = True\n",
        "\n",
        "\n"
      ],
      "metadata": {
        "colab": {
          "base_uri": "https://localhost:8080/"
        },
        "id": "gEVvGdwYgt5J",
        "outputId": "5e212f97-8ad4-4da6-9d79-2f1ac0a5c30c"
      },
      "execution_count": 29,
      "outputs": [
        {
          "output_type": "stream",
          "name": "stdout",
          "text": [
            "4137\n"
          ]
        }
      ]
    },
    {
      "cell_type": "code",
      "source": [
        "batch_size = 32\n",
        "n = batch_size # a shorter variable also, for convenience\n",
        "# construct a minibatch\n",
        "ix = torch.randint(0, Xtr.shape[0], (batch_size,), generator=g)\n",
        "Xb, Yb = Xtr[ix], Ytr[ix] # batch X,Y"
      ],
      "metadata": {
        "id": "5QLAnxNiZ9Lp"
      },
      "execution_count": 30,
      "outputs": []
    },
    {
      "cell_type": "code",
      "source": [
        "emb = C[Xb]\n",
        "embcat = emb.view(emb.shape[0], -1)\n",
        "\n",
        "# linear layer 1\n",
        "hprebn = embcat @ W1 + B1\n",
        "# batch norm\n",
        "bnmeani = 1/n*hprebn.sum(0, keepdim=True)\n",
        "bndiff = hprebn - bnmeani\n",
        "bndiff2 = bndiff**2\n",
        "bnvar = 1/(n-1)*(bndiff2).sum(0, keepdim=True) # Bessel's correction (dividing by n-1, not n)\n",
        "bnvar_inv = (bnvar + 1e-5)**-0.5\n",
        "bnraw = bndiff * bnvar_inv\n",
        "hpreact = bngain * bnraw + bnbias\n",
        "# non linearity\n",
        "h = torch.tanh(hpreact)\n",
        "# second linear layer\n",
        "logits = h @ W2 + B2\n",
        "# cross entropy loss\n",
        "logit_maxes = logits.max(1, keepdim=True).values\n",
        "norm_logits = logits - logit_maxes # subtract the max so we dont get inf in counts\n",
        "counts = norm_logits.exp()\n",
        "counts_sum = counts.sum(1, keepdims=True)\n",
        "counts_sum_inv = counts_sum ** -1\n",
        "probs = counts * counts_sum_inv\n",
        "logprobs = probs.log()\n",
        "loss = -logprobs[range(Xb.shape[0]), Yb].mean()\n",
        "\n",
        "# pytorch backwards\n",
        "for p in parameters:\n",
        "  p.grad = None\n",
        "\n",
        "for t in [logprobs, probs, counts, counts_sum, counts_sum_inv,\n",
        "          norm_logits, logit_maxes, logits, h, hpreact, bnraw,\n",
        "          bnvar_inv, bnvar, bndiff2, bndiff, hprebn, bnmeani,\n",
        "          embcat, emb, bndiff2]: # Added bndiff2\n",
        "  t.retain_grad()\n",
        "\n",
        "loss.backward()\n",
        "loss"
      ],
      "metadata": {
        "colab": {
          "base_uri": "https://localhost:8080/"
        },
        "id": "dE2LfWUfh6tM",
        "outputId": "b4682b8e-2263-4b89-9446-82b330b96746"
      },
      "execution_count": 47,
      "outputs": [
        {
          "output_type": "execute_result",
          "data": {
            "text/plain": [
              "tensor(3.3482, grad_fn=<NegBackward0>)"
            ]
          },
          "metadata": {},
          "execution_count": 47
        }
      ]
    },
    {
      "cell_type": "code",
      "source": [
        "from ctypes import c_size_t\n",
        "# Ecercise 1\n",
        "# Calculating all of the deriatives manually to do backprop\n",
        "\n",
        "# L = loss\n",
        "# dL/dL = 1\n",
        "\n",
        "# dL/dlogprobs\n",
        "# loss = -(a + b + c ... ) /B\n",
        "#      = -a/B -b/B -c/B ...\n",
        "#      = dL/da = -1/B, dL/db = -1/B ...\n",
        "# adding just propates the gradient\n",
        "# dl/dlogprobs = -1/B\n",
        "\n",
        "dlogprobs = torch.zeros_like(logprobs)\n",
        "dlogprobs[range(n), Yb] = -1.0/n\n",
        "\n",
        "# dL/dprobs = dL/dlogprobs * dlogprobs/dprobs -> chain rule\n",
        "#           = -1/B         * ???\n",
        "# logprobs = probs.log()\n",
        "# logprobs = ln(probs)\n",
        "# dlogprobs/dprobs = 1/probs\n",
        "\n",
        "# dL/dprobs = dlogprobs * 1/probs\n",
        "dprobs = dlogprobs * 1.0/probs\n",
        "\n",
        "# probs = counts * counts_sum_inv\n",
        "\n",
        "# p  = a * b\n",
        "# a[3x3] * b[3x1]\n",
        "# a11*b1 a12*b1 a13*b1\n",
        "# a21*b2 a22*b2 a23*b2\n",
        "# a31*b3 a23*b3 a33*b3\n",
        "# p[3x3]\n",
        "\n",
        "# since we reuse b1, b2, b3 we need to add their gradients and keep the original shape [32x1]\n",
        "# dL/dcsi = (counts * dprobs).sum(1, keepdim=true)\n",
        "dcsi= (counts * dprobs).sum(1, keepdim=True)\n",
        "\n",
        "# refering to our p = a * b\n",
        "# a represents counts\n",
        "# dL/da = dL/dp * dp/da\n",
        "#       = dprobs * dcsi\n",
        "dcounts = dprobs * counts_sum_inv\n",
        "\n",
        "# counts_sum_inv = counts_sum ** -1\n",
        "# dcounts_sum = dL/dcsi * -1 * counts_sum**-2\n",
        "dcounts_sum = dcsi * (-counts_sum**-2)\n",
        "\n",
        "# counts_sum = counts.sum(1, keepdims=True)\n",
        "# addition pretty much carries the gradient over\n",
        "# counts_sum = c1 + c2 + c3 ...\n",
        "# dL/dc1 = dL/dcounts_sum * dcounts_sum/dc1\n",
        "#        = dcounts_sum * 1\n",
        "# we want to add to the already existing dcounts since its apart of multiple nodes in the prop tree\n",
        "\n",
        "dcounts += torch.ones_like(counts) * dcounts_sum\n",
        "\n",
        "#counts = norm_logits.exp()\n",
        "#counts = e^norm_logits\n",
        "# dL/dnorm_logits = dL/dcounts * dcounts/dnorm_logits\n",
        "#                 = dcounts    * e^norm_logits\n",
        "\n",
        "dnorm_logits = counts * dcounts\n",
        "\n",
        "\n",
        "#norm_logits = logits - logit_maxes\n",
        "# similar to out counts and counts_sum situtation, we repeat logit_maxes\n",
        "# c  = a - b\n",
        "# a[3x3] - b[3x1]\n",
        "# a11-b1 a12-b1 a13-b1\n",
        "# a21-b2 a22-b2 a23-b2\n",
        "# a31-b3 a23-b3 a33-b3\n",
        "# c[3x3]\n",
        "#dL/dlogit_maxes = dnorm_logits * dnorm_logits/dlogit_maxes\n",
        "#                               * [-1, -1, -1, ...]\n",
        "#                                 [-1, -1, -1, ...]\n",
        "#                                        ...\n",
        "\n",
        "# dL/dlogits = dnorm_logits\n",
        "dlogits = dnorm_logits.clone()\n",
        "dlogit_maxes = (-dnorm_logits).sum(1, keepdim=True)\n",
        "\n",
        "# we arent done yet with dlogits though\n",
        "# logit_maxes = logits.max(1, keepdim=True).values\n",
        "# dL/logits = dlogit_maxes * dlogit_maxes/dlogits\n",
        "\n",
        "#             dlogit_maxes/dlogits = 1 at max index per row. Everywhere else = 0\n",
        "\n",
        "#            = dlogit_maxes * 1, for the max index in each row\n",
        "\n",
        "#           dlogit_maxes linearly depends on dlogits since all the values in dlogit_maxes are in dlogits\n",
        "# only the max value participates in the deriative\n",
        "# since we are adding dlogits to\n",
        "# dlogit_maxes = [b1]\n",
        "#                [b2]\n",
        "#                 ..\n",
        "#                [b32]\n",
        "dlogits += F.one_hot(logits.max(1).indices, num_classes=logits.shape[1]) * dlogit_maxes\n",
        "\n",
        "\n",
        "# I decided to work on the deratives on paper rather than commenting them\n",
        "# don't want to spend too much time commenting each and every operation for visualization :)\n",
        "\n",
        "dh = dlogits @ W2.T\n",
        "dW2 = h.T @ dlogits\n",
        "db2 = dlogits.sum(0)\n",
        "dhpreact = (1.0 - h**2) * dh\n",
        "dbngain = (bnraw * dhpreact).sum(0, keepdim=True)\n",
        "dbnraw = bngain * dhpreact\n",
        "dbnbias = dhpreact.sum(0, keepdim=True)\n",
        "dbndiff = bnvar_inv * dbnraw\n",
        "dbnvar_inv = (bndiff * dbnraw).sum(0, keepdim=True)\n",
        "dbnvar = (-0.5*(bnvar + 1e-5)**-1.5) * dbnvar_inv\n",
        "dbndiff2 = (1.0/(n-1))*torch.ones_like(bndiff2) * dbnvar\n",
        "dbndiff += (2*bndiff) * dbndiff2\n",
        "dhprebn = dbndiff.clone()\n",
        "dbnmeani = (-dbndiff).sum(0)\n",
        "dhprebn += 1.0/n * (torch.ones_like(hprebn) * dbnmeani)\n",
        "dembcat = dhprebn @ W1.T\n",
        "dW1 = embcat.T @ dhprebn\n",
        "db1 = dhprebn.sum(0)\n",
        "demb = dembcat.view(emb.shape)\n",
        "dC = torch.zeros_like(C)\n",
        "for k in range(Xb.shape[0]):\n",
        "  for j in range(Xb.shape[1]):\n",
        "    ix = Xb[k,j]\n",
        "    dC[ix] += demb[k,j]\n",
        "\n",
        "\n",
        "cmp('dlogprobs', dlogprobs, logprobs)\n",
        "cmp('dprobs', dprobs, probs)\n",
        "cmp('dcsi', dcsi, counts_sum_inv)\n",
        "cmp('dcounts_sum', dcounts_sum, counts_sum)\n",
        "cmp('dcounts', dcounts, counts)\n",
        "cmp('dnorm_logits', dnorm_logits, norm_logits)\n",
        "cmp('dlogit_maxes', dlogit_maxes, logit_maxes)\n",
        "cmp('dlogit', dlogits, logits)\n",
        "cmp('dh', dh, h)\n",
        "cmp('dw2', dW2, W2)\n",
        "cmp('db2', db2, B2)\n",
        "cmp('dhpreact', dhpreact, hpreact)\n",
        "cmp('dbngain', dbngain, bngain)\n",
        "cmp('dbnraw', dbnraw, bnraw)\n",
        "cmp('dbnbias', dbnbias, bnbias)\n",
        "cmp('dbnvar_inv', dbnvar_inv, bnvar_inv)\n",
        "cmp('ddbnvar', dbnvar_inv, bnvar_inv)\n",
        "cmp('dbndiff2', dbndiff2, bndiff2)\n",
        "cmp('dbndiff', dbndiff, bndiff)\n",
        "cmp('dbnmeani', dbnmeani, bnmeani)\n",
        "cmp('dhprebn', dhprebn, hprebn)\n",
        "cmp('dembcat', dembcat, embcat)\n",
        "cmp('dW1', dW1, W1)\n",
        "cmp('db1', db1, B1)\n",
        "cmp('demb', demb, emb)\n",
        "cmp('dC', dC, C)\n",
        "\n",
        "\n",
        "# even thought approximations starts to become False as we go down,\n",
        "# the calculations are correct -> refering to andrej karpathy lecture\n",
        "# seems like running his jupyter notebook looked like the same thing\n"
      ],
      "metadata": {
        "colab": {
          "base_uri": "https://localhost:8080/"
        },
        "id": "Pi_x-AcWjjPS",
        "outputId": "93239556-b705-40a6-8e9c-4351dc251363"
      },
      "execution_count": 49,
      "outputs": [
        {
          "output_type": "stream",
          "name": "stdout",
          "text": [
            "dlogprobs       | exact: True  | approximate: True  | maxdiff: 0.0\n",
            "dprobs          | exact: True  | approximate: True  | maxdiff: 0.0\n",
            "dcsi            | exact: True  | approximate: True  | maxdiff: 0.0\n",
            "dcounts_sum     | exact: True  | approximate: True  | maxdiff: 0.0\n",
            "dcounts         | exact: True  | approximate: True  | maxdiff: 0.0\n",
            "dnorm_logits    | exact: True  | approximate: True  | maxdiff: 0.0\n",
            "dlogit_maxes    | exact: True  | approximate: True  | maxdiff: 0.0\n",
            "dlogit          | exact: True  | approximate: True  | maxdiff: 0.0\n",
            "dh              | exact: True  | approximate: True  | maxdiff: 0.0\n",
            "dw2             | exact: True  | approximate: True  | maxdiff: 0.0\n",
            "db2             | exact: True  | approximate: True  | maxdiff: 0.0\n",
            "dhpreact        | exact: False | approximate: True  | maxdiff: 9.313225746154785e-10\n",
            "dbngain         | exact: False | approximate: True  | maxdiff: 3.725290298461914e-09\n",
            "dbnraw          | exact: False | approximate: True  | maxdiff: 9.313225746154785e-10\n",
            "dbnbias         | exact: False | approximate: True  | maxdiff: 3.725290298461914e-09\n",
            "dbnvar_inv      | exact: False | approximate: True  | maxdiff: 3.725290298461914e-09\n",
            "ddbnvar         | exact: False | approximate: True  | maxdiff: 3.725290298461914e-09\n",
            "dbndiff2        | exact: False | approximate: True  | maxdiff: 1.4551915228366852e-11\n",
            "dbndiff         | exact: False | approximate: True  | maxdiff: 6.984919309616089e-10\n",
            "dbnmeani        | exact: False | approximate: True  | maxdiff: 3.725290298461914e-09\n",
            "dhprebn         | exact: False | approximate: True  | maxdiff: 6.984919309616089e-10\n",
            "dembcat         | exact: False | approximate: True  | maxdiff: 1.3969838619232178e-09\n",
            "dW1             | exact: False | approximate: True  | maxdiff: 5.587935447692871e-09\n",
            "db1             | exact: False | approximate: True  | maxdiff: 4.6566128730773926e-09\n",
            "demb            | exact: False | approximate: True  | maxdiff: 1.3969838619232178e-09\n",
            "dC              | exact: False | approximate: True  | maxdiff: 5.587935447692871e-09\n"
          ]
        }
      ]
    },
    {
      "cell_type": "code",
      "source": [],
      "metadata": {
        "id": "jEXagtVFgzcK"
      },
      "execution_count": 48,
      "outputs": []
    }
  ]
}